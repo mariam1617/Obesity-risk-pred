{
  "cells": [
    {
      "cell_type": "markdown",
      "id": "aa6ceccb-291c-4d72-83a9-44c27cc8a624",
      "metadata": {
        "id": "aa6ceccb-291c-4d72-83a9-44c27cc8a624"
      },
      "source": [
        "# Data Cleaning in Python"
      ]
    },
    {
      "cell_type": "markdown",
      "id": "dbcba5fa-350b-47a2-9a4f-8e63e6e8bafa",
      "metadata": {
        "id": "dbcba5fa-350b-47a2-9a4f-8e63e6e8bafa"
      },
      "source": [
        "### 📌 What is Data Cleaning?\n",
        "\n",
        "Data cleaning is the process of fixing or removing incorrect, corrupted, duplicate, or incomplete data within a dataset. It's a critical step in the data science workflow because raw data is often messy and unstructured. The goal is to make the data consistent, reliable, and ready for analysis or modeling.\n",
        "\n",
        "---\n",
        "\n",
        "### 🔍 Why It Matters & Common Issues\n",
        "\n",
        "Dirty data can lead to inaccurate insights, poor model performance, and wrong business decisions. Cleaning the data helps ensure the results of your analysis are trustworthy and meaningful.\n",
        "\n",
        "**Common data quality issues include:**\n",
        "- **Missing values:** Empty or null fields that need to be filled or removed  \n",
        "- **Duplicates:** Repeated rows or entries  \n",
        "- **Inconsistent formatting:** Variations in dates, text case, or spacing  \n",
        "- **Incorrect data types:** Numbers stored as strings, or dates as plain text  \n",
        "- **Outliers:** Values that are abnormally high or low and may skew analysis  \n",
        "- **Irrelevant data:** Unnecessary columns or rows not useful for the task  \n",
        "\n",
        "By addressing these, we improve the quality and reliability of our data"
      ]
    },
    {
      "cell_type": "code",
      "execution_count": 2,
      "id": "5a4ce973-5cc7-4dd0-b446-501d6d12d205",
      "metadata": {
        "id": "5a4ce973-5cc7-4dd0-b446-501d6d12d205",
        "outputId": "f1e89407-240b-47d9-d598-1ac7b8d3cb05"
      },
      "outputs": [
        {
          "data": {
            "text/plain": [
              "pandas.core.frame.DataFrame"
            ]
          },
          "metadata": {},
          "output_type": "display_data"
        }
      ],
      "source": [
        "import pandas as pd\n",
        "\n",
        "# read csv file\n",
        "df = pd.read_csv('train_dataset.csv')\n",
        "display(type(df))\n",
        "data=df.copy()"
      ]
    },
    {
      "cell_type": "markdown",
      "id": "526faff4-1ce8-4f9d-a0f3-d00d1f4a70e8",
      "metadata": {
        "id": "526faff4-1ce8-4f9d-a0f3-d00d1f4a70e8"
      },
      "source": [
        "## Dealing with Missing Values"
      ]
    },
    {
      "cell_type": "code",
      "execution_count": null,
      "id": "d46f6983-aaa7-428e-b5b1-6826f5b69601",
      "metadata": {
        "id": "d46f6983-aaa7-428e-b5b1-6826f5b69601",
        "outputId": "9bbeac6e-973a-4165-83b1-c7d6f60921ad"
      },
      "outputs": [
        {
          "data": {
            "text/plain": [
              "student_id                        0\n",
              "age                               0\n",
              "gender                            4\n",
              "study_hours_per_day               0\n",
              "social_media_hours                0\n",
              "netflix_hours                     5\n",
              "part_time_job                     0\n",
              "attendance_percentage            23\n",
              "sleep_hours                       7\n",
              "diet_quality                      0\n",
              "exercise_frequency                0\n",
              "parental_education_level         94\n",
              "internet_quality                  0\n",
              "mental_health_rating              0\n",
              "extracurricular_participation     0\n",
              "exam_score                        0\n",
              "dtype: int64"
            ]
          },
          "execution_count": 190,
          "metadata": {},
          "output_type": "execute_result"
        }
      ],
      "source": [
        "# Check for missing values in each column\n",
        "df.isnull().sum()"
      ]
    },
    {
      "cell_type": "markdown",
      "id": "b98d34a4-2b76-41db-90b4-f148751ef8a5",
      "metadata": {
        "id": "b98d34a4-2b76-41db-90b4-f148751ef8a5"
      },
      "source": [
        "### Fill missing gender with the mode"
      ]
    },
    {
      "cell_type": "code",
      "execution_count": null,
      "id": "b9e8e322-b821-4495-ab90-fa4d6097ab47",
      "metadata": {
        "id": "b9e8e322-b821-4495-ab90-fa4d6097ab47"
      },
      "outputs": [],
      "source": [
        "# Fill missing gender values with the most frequent one (mode)\n",
        "df['gender'] = df['gender'].fillna(df['gender'].mode()[0])"
      ]
    },
    {
      "cell_type": "code",
      "execution_count": null,
      "id": "a45b50ae-3bf6-4a73-a5e9-875d9aefad01",
      "metadata": {
        "id": "a45b50ae-3bf6-4a73-a5e9-875d9aefad01",
        "outputId": "0fb14125-17a4-40ca-8f86-c722673055a1"
      },
      "outputs": [
        {
          "data": {
            "text/plain": [
              "student_id                        0\n",
              "age                               0\n",
              "gender                            0\n",
              "study_hours_per_day               0\n",
              "social_media_hours                0\n",
              "netflix_hours                     5\n",
              "part_time_job                     0\n",
              "attendance_percentage            23\n",
              "sleep_hours                       7\n",
              "diet_quality                      0\n",
              "exercise_frequency                0\n",
              "parental_education_level         94\n",
              "internet_quality                  0\n",
              "mental_health_rating              0\n",
              "extracurricular_participation     0\n",
              "exam_score                        0\n",
              "dtype: int64"
            ]
          },
          "execution_count": 192,
          "metadata": {},
          "output_type": "execute_result"
        }
      ],
      "source": [
        "df.isnull().sum()"
      ]
    },
    {
      "cell_type": "markdown",
      "id": "0e60c085-bd04-4bf9-a026-bc480fe7ffef",
      "metadata": {
        "id": "0e60c085-bd04-4bf9-a026-bc480fe7ffef"
      },
      "source": [
        "### Fill missing netflix_hours with the median"
      ]
    },
    {
      "cell_type": "code",
      "execution_count": null,
      "id": "9c547cc3-76f4-4f03-891e-173e3b9beb5e",
      "metadata": {
        "id": "9c547cc3-76f4-4f03-891e-173e3b9beb5e"
      },
      "outputs": [],
      "source": [
        "# Fill missing netflix_hours with the median value\n",
        "df['netflix_hours'] = df['netflix_hours'].fillna(df['netflix_hours'].median())"
      ]
    },
    {
      "cell_type": "code",
      "execution_count": null,
      "id": "b33acf7c-e611-47b8-a3d5-89b5b09984c3",
      "metadata": {
        "id": "b33acf7c-e611-47b8-a3d5-89b5b09984c3",
        "outputId": "3e69a5dc-d5dd-4f9f-d1bb-3f6e32d948cd"
      },
      "outputs": [
        {
          "data": {
            "text/plain": [
              "student_id                        0\n",
              "age                               0\n",
              "gender                            0\n",
              "study_hours_per_day               0\n",
              "social_media_hours                0\n",
              "netflix_hours                     0\n",
              "part_time_job                     0\n",
              "attendance_percentage            23\n",
              "sleep_hours                       7\n",
              "diet_quality                      0\n",
              "exercise_frequency                0\n",
              "parental_education_level         94\n",
              "internet_quality                  0\n",
              "mental_health_rating              0\n",
              "extracurricular_participation     0\n",
              "exam_score                        0\n",
              "dtype: int64"
            ]
          },
          "execution_count": 194,
          "metadata": {},
          "output_type": "execute_result"
        }
      ],
      "source": [
        "df.isnull().sum()"
      ]
    },
    {
      "cell_type": "markdown",
      "id": "0d5652b3-1c15-4024-9327-0e217bc9ac5f",
      "metadata": {
        "id": "0d5652b3-1c15-4024-9327-0e217bc9ac5f"
      },
      "source": [
        "### Drop rows where sleep_hours is missing"
      ]
    },
    {
      "cell_type": "code",
      "execution_count": null,
      "id": "f3e3015f-a443-44d9-b314-7398d3b643a1",
      "metadata": {
        "id": "f3e3015f-a443-44d9-b314-7398d3b643a1"
      },
      "outputs": [],
      "source": [
        "# Drop rows with missing sleep_hours\n",
        "df = df.dropna(subset=['sleep_hours'])"
      ]
    },
    {
      "cell_type": "markdown",
      "id": "2492baac-4255-49ca-af67-fd36e0446873",
      "metadata": {
        "id": "2492baac-4255-49ca-af67-fd36e0446873"
      },
      "source": [
        "### Drop the parental_education_level column"
      ]
    },
    {
      "cell_type": "code",
      "execution_count": null,
      "id": "620a437b-4403-4dfd-b50b-76b24cc2644b",
      "metadata": {
        "id": "620a437b-4403-4dfd-b50b-76b24cc2644b",
        "outputId": "25a2df2e-dab7-4720-df72-c49b1aa8a30f"
      },
      "outputs": [
        {
          "data": {
            "text/plain": [
              "Index(['student_id', 'age', 'gender', 'study_hours_per_day',\n",
              "       'social_media_hours', 'netflix_hours', 'part_time_job',\n",
              "       'attendance_percentage', 'sleep_hours', 'diet_quality',\n",
              "       'exercise_frequency', 'internet_quality', 'mental_health_rating',\n",
              "       'extracurricular_participation', 'exam_score'],\n",
              "      dtype='object')"
            ]
          },
          "execution_count": 196,
          "metadata": {},
          "output_type": "execute_result"
        }
      ],
      "source": [
        "# Drop the parental_education_level column entirely\n",
        "df = df.drop(columns=['parental_education_level'])\n",
        "df.columns"
      ]
    },
    {
      "cell_type": "markdown",
      "id": "563fd9b5-7c27-412c-aa08-9143b9be2ce5",
      "metadata": {
        "id": "563fd9b5-7c27-412c-aa08-9143b9be2ce5"
      },
      "source": [
        "### fill missing values in attendance_percentage by the mean within each gender group"
      ]
    },
    {
      "cell_type": "code",
      "execution_count": null,
      "id": "095bfc46-9f5a-4441-bf6f-6adc3391f1ad",
      "metadata": {
        "id": "095bfc46-9f5a-4441-bf6f-6adc3391f1ad"
      },
      "outputs": [],
      "source": [
        "df['attendance_percentage'] = df.groupby('gender')['attendance_percentage'].transform(lambda x: x.fillna(x.mean()))"
      ]
    },
    {
      "cell_type": "code",
      "execution_count": null,
      "id": "f4e7401b-25d2-4e7e-80b5-bf01a31c9aea",
      "metadata": {
        "id": "f4e7401b-25d2-4e7e-80b5-bf01a31c9aea",
        "outputId": "cdc1893d-1a75-4b19-a02d-7abc49ee3baa"
      },
      "outputs": [
        {
          "data": {
            "text/plain": [
              "student_id                       0\n",
              "age                              0\n",
              "gender                           0\n",
              "study_hours_per_day              0\n",
              "social_media_hours               0\n",
              "netflix_hours                    0\n",
              "part_time_job                    0\n",
              "attendance_percentage            0\n",
              "sleep_hours                      0\n",
              "diet_quality                     0\n",
              "exercise_frequency               0\n",
              "internet_quality                 0\n",
              "mental_health_rating             0\n",
              "extracurricular_participation    0\n",
              "exam_score                       0\n",
              "dtype: int64"
            ]
          },
          "execution_count": 198,
          "metadata": {},
          "output_type": "execute_result"
        }
      ],
      "source": [
        "# Check for missing values in each column\n",
        "df.isnull().sum()"
      ]
    },
    {
      "cell_type": "markdown",
      "id": "b8fd7228-e24b-4ef1-affa-89c6cb1638f0",
      "metadata": {
        "id": "b8fd7228-e24b-4ef1-affa-89c6cb1638f0"
      },
      "source": [
        "## Dealing with Duplicates"
      ]
    },
    {
      "cell_type": "code",
      "execution_count": null,
      "id": "97046c76-4872-4eef-a83d-dc5ca1c70243",
      "metadata": {
        "id": "97046c76-4872-4eef-a83d-dc5ca1c70243",
        "outputId": "e69069a9-0191-4d73-d78e-5d06c5215585"
      },
      "outputs": [
        {
          "data": {
            "text/plain": [
              "np.int64(4)"
            ]
          },
          "execution_count": 199,
          "metadata": {},
          "output_type": "execute_result"
        }
      ],
      "source": [
        "df.duplicated().sum()"
      ]
    },
    {
      "cell_type": "code",
      "execution_count": null,
      "id": "38f9ea85-b109-4162-a561-37538612e3c3",
      "metadata": {
        "id": "38f9ea85-b109-4162-a561-37538612e3c3",
        "outputId": "0ddbccd8-ddad-4966-fc83-22d933d0ba3d"
      },
      "outputs": [
        {
          "name": "stdout",
          "output_type": "stream",
          "text": [
            "Number of duplicate rows: 4\n"
          ]
        },
        {
          "data": {
            "text/html": [
              "<div>\n",
              "<style scoped>\n",
              "    .dataframe tbody tr th:only-of-type {\n",
              "        vertical-align: middle;\n",
              "    }\n",
              "\n",
              "    .dataframe tbody tr th {\n",
              "        vertical-align: top;\n",
              "    }\n",
              "\n",
              "    .dataframe thead th {\n",
              "        text-align: right;\n",
              "    }\n",
              "</style>\n",
              "<table border=\"1\" class=\"dataframe\">\n",
              "  <thead>\n",
              "    <tr style=\"text-align: right;\">\n",
              "      <th></th>\n",
              "      <th>student_id</th>\n",
              "      <th>age</th>\n",
              "      <th>gender</th>\n",
              "      <th>study_hours_per_day</th>\n",
              "      <th>social_media_hours</th>\n",
              "      <th>netflix_hours</th>\n",
              "      <th>part_time_job</th>\n",
              "      <th>attendance_percentage</th>\n",
              "      <th>sleep_hours</th>\n",
              "      <th>diet_quality</th>\n",
              "      <th>exercise_frequency</th>\n",
              "      <th>internet_quality</th>\n",
              "      <th>mental_health_rating</th>\n",
              "      <th>extracurricular_participation</th>\n",
              "      <th>exam_score</th>\n",
              "    </tr>\n",
              "  </thead>\n",
              "  <tbody>\n",
              "    <tr>\n",
              "      <th>4</th>\n",
              "      <td>S1002</td>\n",
              "      <td>21</td>\n",
              "      <td>Male</td>\n",
              "      <td>1.4</td>\n",
              "      <td>3.1</td>\n",
              "      <td>1.3</td>\n",
              "      <td>No</td>\n",
              "      <td>94.8</td>\n",
              "      <td>8.0</td>\n",
              "      <td>Poor</td>\n",
              "      <td>1</td>\n",
              "      <td>Poor</td>\n",
              "      <td>1</td>\n",
              "      <td>No</td>\n",
              "      <td>34.3</td>\n",
              "    </tr>\n",
              "    <tr>\n",
              "      <th>5</th>\n",
              "      <td>S1003</td>\n",
              "      <td>23</td>\n",
              "      <td>Female</td>\n",
              "      <td>1.0</td>\n",
              "      <td>3.9</td>\n",
              "      <td>1.0</td>\n",
              "      <td>No</td>\n",
              "      <td>71.0</td>\n",
              "      <td>9.2</td>\n",
              "      <td>Poor</td>\n",
              "      <td>4</td>\n",
              "      <td>Good</td>\n",
              "      <td>1</td>\n",
              "      <td>Yes</td>\n",
              "      <td>26.8</td>\n",
              "    </tr>\n",
              "    <tr>\n",
              "      <th>193</th>\n",
              "      <td>S1189</td>\n",
              "      <td>22</td>\n",
              "      <td>Male</td>\n",
              "      <td>3.2</td>\n",
              "      <td>2.0</td>\n",
              "      <td>1.6</td>\n",
              "      <td>No</td>\n",
              "      <td>78.2</td>\n",
              "      <td>5.6</td>\n",
              "      <td>Fair</td>\n",
              "      <td>2</td>\n",
              "      <td>Average</td>\n",
              "      <td>7</td>\n",
              "      <td>Yes</td>\n",
              "      <td>60.5</td>\n",
              "    </tr>\n",
              "    <tr>\n",
              "      <th>194</th>\n",
              "      <td>S1190</td>\n",
              "      <td>23</td>\n",
              "      <td>Male</td>\n",
              "      <td>1.7</td>\n",
              "      <td>3.8</td>\n",
              "      <td>1.2</td>\n",
              "      <td>No</td>\n",
              "      <td>82.3</td>\n",
              "      <td>7.9</td>\n",
              "      <td>Poor</td>\n",
              "      <td>6</td>\n",
              "      <td>Good</td>\n",
              "      <td>5</td>\n",
              "      <td>No</td>\n",
              "      <td>55.4</td>\n",
              "    </tr>\n",
              "  </tbody>\n",
              "</table>\n",
              "</div>"
            ],
            "text/plain": [
              "    student_id  age  gender  study_hours_per_day  social_media_hours  \\\n",
              "4        S1002   21    Male                  1.4                 3.1   \n",
              "5        S1003   23  Female                  1.0                 3.9   \n",
              "193      S1189   22    Male                  3.2                 2.0   \n",
              "194      S1190   23    Male                  1.7                 3.8   \n",
              "\n",
              "     netflix_hours part_time_job  attendance_percentage  sleep_hours  \\\n",
              "4              1.3            No                   94.8          8.0   \n",
              "5              1.0            No                   71.0          9.2   \n",
              "193            1.6            No                   78.2          5.6   \n",
              "194            1.2            No                   82.3          7.9   \n",
              "\n",
              "    diet_quality  exercise_frequency internet_quality  mental_health_rating  \\\n",
              "4           Poor                   1             Poor                     1   \n",
              "5           Poor                   4             Good                     1   \n",
              "193         Fair                   2          Average                     7   \n",
              "194         Poor                   6             Good                     5   \n",
              "\n",
              "    extracurricular_participation  exam_score  \n",
              "4                              No        34.3  \n",
              "5                             Yes        26.8  \n",
              "193                           Yes        60.5  \n",
              "194                            No        55.4  "
            ]
          },
          "execution_count": 200,
          "metadata": {},
          "output_type": "execute_result"
        }
      ],
      "source": [
        "# Check for duplicate rows\n",
        "duplicate_rows = df.duplicated()\n",
        "print(\"Number of duplicate rows:\", duplicate_rows.sum())\n",
        "\n",
        "# Optionally, display the duplicate rows\n",
        "df[df.duplicated()]"
      ]
    },
    {
      "cell_type": "markdown",
      "id": "5d1a4c7b-4238-4c2f-8c7d-f3d24169087d",
      "metadata": {
        "id": "5d1a4c7b-4238-4c2f-8c7d-f3d24169087d"
      },
      "source": [
        "### Remove Entire Duplicate Rows"
      ]
    },
    {
      "cell_type": "code",
      "execution_count": null,
      "id": "6ca67cc6-c945-4ad6-be6b-14b4a5824b17",
      "metadata": {
        "id": "6ca67cc6-c945-4ad6-be6b-14b4a5824b17",
        "outputId": "484f8325-883f-49f5-9c31-6f2a3c2ce505"
      },
      "outputs": [
        {
          "name": "stdout",
          "output_type": "stream",
          "text": [
            "Shape after removing full duplicates: (993, 15)\n"
          ]
        }
      ],
      "source": [
        "# Remove fully duplicated rows\n",
        "df = df.drop_duplicates()\n",
        "print(\"Shape after removing full duplicates:\", df.shape)"
      ]
    },
    {
      "cell_type": "markdown",
      "id": "7bb18657-ef8e-44ff-97de-38df9a84ade8",
      "metadata": {
        "id": "7bb18657-ef8e-44ff-97de-38df9a84ade8"
      },
      "source": [
        "### Remove Duplicates Based on Unique ID (student_id)"
      ]
    },
    {
      "cell_type": "code",
      "execution_count": null,
      "id": "3ebf91d4-2f35-4f6e-bad5-9cf568e75bf6",
      "metadata": {
        "id": "3ebf91d4-2f35-4f6e-bad5-9cf568e75bf6",
        "outputId": "e760660d-76b0-437a-8263-9889aac4b8fc"
      },
      "outputs": [
        {
          "name": "stdout",
          "output_type": "stream",
          "text": [
            "Shape after removing duplicates by student_id: (989, 15)\n"
          ]
        }
      ],
      "source": [
        "# Remove duplicate entries based on student_id, keeping the first occurrence\n",
        "df = df.drop_duplicates(subset=['student_id'], keep='first')   # keep='last', False\n",
        "print(\"Shape after removing duplicates by student_id:\", df.shape) #////////////"
      ]
    },
    {
      "cell_type": "markdown",
      "id": "9b52eaa7-3cf4-4bc5-b9a1-3095a3e998ed",
      "metadata": {
        "id": "9b52eaa7-3cf4-4bc5-b9a1-3095a3e998ed"
      },
      "source": [
        "## Deaking with Inconsistent Formatting"
      ]
    },
    {
      "cell_type": "markdown",
      "id": "b7c7d08f-d673-4a9e-a915-d588ca0b3f2b",
      "metadata": {
        "id": "b7c7d08f-d673-4a9e-a915-d588ca0b3f2b"
      },
      "source": [
        "### Check for inconsistent text case or whitespace"
      ]
    },
    {
      "cell_type": "code",
      "execution_count": 3,
      "id": "f4679e00-4245-478b-9f21-4cc0fcc1f848",
      "metadata": {
        "id": "f4679e00-4245-478b-9f21-4cc0fcc1f848",
        "outputId": "88d2f607-21b4-4226-fabd-47bc411cfb93"
      },
      "outputs": [
        {
          "name": "stdout",
          "output_type": "stream",
          "text": [
            "Unique gender values before cleaning:\n"
          ]
        },
        {
          "ename": "KeyError",
          "evalue": "'gender'",
          "output_type": "error",
          "traceback": [
            "\u001b[31m---------------------------------------------------------------------------\u001b[39m",
            "\u001b[31mKeyError\u001b[39m                                  Traceback (most recent call last)",
            "\u001b[36mFile \u001b[39m\u001b[32mc:\\Users\\Administrator\\anaconda3\\envs\\MYENV\\Lib\\site-packages\\pandas\\core\\indexes\\base.py:3805\u001b[39m, in \u001b[36mIndex.get_loc\u001b[39m\u001b[34m(self, key)\u001b[39m\n\u001b[32m   3804\u001b[39m \u001b[38;5;28;01mtry\u001b[39;00m:\n\u001b[32m-> \u001b[39m\u001b[32m3805\u001b[39m     \u001b[38;5;28;01mreturn\u001b[39;00m \u001b[38;5;28;43mself\u001b[39;49m\u001b[43m.\u001b[49m\u001b[43m_engine\u001b[49m\u001b[43m.\u001b[49m\u001b[43mget_loc\u001b[49m\u001b[43m(\u001b[49m\u001b[43mcasted_key\u001b[49m\u001b[43m)\u001b[49m\n\u001b[32m   3806\u001b[39m \u001b[38;5;28;01mexcept\u001b[39;00m \u001b[38;5;167;01mKeyError\u001b[39;00m \u001b[38;5;28;01mas\u001b[39;00m err:\n",
            "\u001b[36mFile \u001b[39m\u001b[32mindex.pyx:167\u001b[39m, in \u001b[36mpandas._libs.index.IndexEngine.get_loc\u001b[39m\u001b[34m()\u001b[39m\n",
            "\u001b[36mFile \u001b[39m\u001b[32mindex.pyx:196\u001b[39m, in \u001b[36mpandas._libs.index.IndexEngine.get_loc\u001b[39m\u001b[34m()\u001b[39m\n",
            "\u001b[36mFile \u001b[39m\u001b[32mpandas\\\\_libs\\\\hashtable_class_helper.pxi:7081\u001b[39m, in \u001b[36mpandas._libs.hashtable.PyObjectHashTable.get_item\u001b[39m\u001b[34m()\u001b[39m\n",
            "\u001b[36mFile \u001b[39m\u001b[32mpandas\\\\_libs\\\\hashtable_class_helper.pxi:7089\u001b[39m, in \u001b[36mpandas._libs.hashtable.PyObjectHashTable.get_item\u001b[39m\u001b[34m()\u001b[39m\n",
            "\u001b[31mKeyError\u001b[39m: 'gender'",
            "\nThe above exception was the direct cause of the following exception:\n",
            "\u001b[31mKeyError\u001b[39m                                  Traceback (most recent call last)",
            "\u001b[36mCell\u001b[39m\u001b[36m \u001b[39m\u001b[32mIn[3]\u001b[39m\u001b[32m, line 3\u001b[39m\n\u001b[32m      1\u001b[39m \u001b[38;5;66;03m# Example: Checking for inconsistent gender values\u001b[39;00m\n\u001b[32m      2\u001b[39m \u001b[38;5;28mprint\u001b[39m(\u001b[33m\"\u001b[39m\u001b[33mUnique gender values before cleaning:\u001b[39m\u001b[33m\"\u001b[39m)\n\u001b[32m----> \u001b[39m\u001b[32m3\u001b[39m \u001b[38;5;28mprint\u001b[39m(\u001b[43mdf\u001b[49m\u001b[43m[\u001b[49m\u001b[33;43m'\u001b[39;49m\u001b[33;43mgender\u001b[39;49m\u001b[33;43m'\u001b[39;49m\u001b[43m]\u001b[49m.unique())\n",
            "\u001b[36mFile \u001b[39m\u001b[32mc:\\Users\\Administrator\\anaconda3\\envs\\MYENV\\Lib\\site-packages\\pandas\\core\\frame.py:4102\u001b[39m, in \u001b[36mDataFrame.__getitem__\u001b[39m\u001b[34m(self, key)\u001b[39m\n\u001b[32m   4100\u001b[39m \u001b[38;5;28;01mif\u001b[39;00m \u001b[38;5;28mself\u001b[39m.columns.nlevels > \u001b[32m1\u001b[39m:\n\u001b[32m   4101\u001b[39m     \u001b[38;5;28;01mreturn\u001b[39;00m \u001b[38;5;28mself\u001b[39m._getitem_multilevel(key)\n\u001b[32m-> \u001b[39m\u001b[32m4102\u001b[39m indexer = \u001b[38;5;28;43mself\u001b[39;49m\u001b[43m.\u001b[49m\u001b[43mcolumns\u001b[49m\u001b[43m.\u001b[49m\u001b[43mget_loc\u001b[49m\u001b[43m(\u001b[49m\u001b[43mkey\u001b[49m\u001b[43m)\u001b[49m\n\u001b[32m   4103\u001b[39m \u001b[38;5;28;01mif\u001b[39;00m is_integer(indexer):\n\u001b[32m   4104\u001b[39m     indexer = [indexer]\n",
            "\u001b[36mFile \u001b[39m\u001b[32mc:\\Users\\Administrator\\anaconda3\\envs\\MYENV\\Lib\\site-packages\\pandas\\core\\indexes\\base.py:3812\u001b[39m, in \u001b[36mIndex.get_loc\u001b[39m\u001b[34m(self, key)\u001b[39m\n\u001b[32m   3807\u001b[39m     \u001b[38;5;28;01mif\u001b[39;00m \u001b[38;5;28misinstance\u001b[39m(casted_key, \u001b[38;5;28mslice\u001b[39m) \u001b[38;5;129;01mor\u001b[39;00m (\n\u001b[32m   3808\u001b[39m         \u001b[38;5;28misinstance\u001b[39m(casted_key, abc.Iterable)\n\u001b[32m   3809\u001b[39m         \u001b[38;5;129;01mand\u001b[39;00m \u001b[38;5;28many\u001b[39m(\u001b[38;5;28misinstance\u001b[39m(x, \u001b[38;5;28mslice\u001b[39m) \u001b[38;5;28;01mfor\u001b[39;00m x \u001b[38;5;129;01min\u001b[39;00m casted_key)\n\u001b[32m   3810\u001b[39m     ):\n\u001b[32m   3811\u001b[39m         \u001b[38;5;28;01mraise\u001b[39;00m InvalidIndexError(key)\n\u001b[32m-> \u001b[39m\u001b[32m3812\u001b[39m     \u001b[38;5;28;01mraise\u001b[39;00m \u001b[38;5;167;01mKeyError\u001b[39;00m(key) \u001b[38;5;28;01mfrom\u001b[39;00m\u001b[38;5;250m \u001b[39m\u001b[34;01merr\u001b[39;00m\n\u001b[32m   3813\u001b[39m \u001b[38;5;28;01mexcept\u001b[39;00m \u001b[38;5;167;01mTypeError\u001b[39;00m:\n\u001b[32m   3814\u001b[39m     \u001b[38;5;66;03m# If we have a listlike key, _check_indexing_error will raise\u001b[39;00m\n\u001b[32m   3815\u001b[39m     \u001b[38;5;66;03m#  InvalidIndexError. Otherwise we fall through and re-raise\u001b[39;00m\n\u001b[32m   3816\u001b[39m     \u001b[38;5;66;03m#  the TypeError.\u001b[39;00m\n\u001b[32m   3817\u001b[39m     \u001b[38;5;28mself\u001b[39m._check_indexing_error(key)\n",
            "\u001b[31mKeyError\u001b[39m: 'gender'"
          ]
        }
      ],
      "source": [
        "# Example: Checking for inconsistent gender values\n",
        "print(\"Unique gender values before cleaning:\")\n",
        "print(df['gender'].unique())"
      ]
    },
    {
      "cell_type": "code",
      "execution_count": null,
      "id": "cdf0df6b-c48f-4367-80d5-17cec88e192a",
      "metadata": {
        "id": "cdf0df6b-c48f-4367-80d5-17cec88e192a",
        "outputId": "e1a7959e-43cc-4cdc-c003-dc2231f30210"
      },
      "outputs": [
        {
          "data": {
            "text/plain": [
              "gender\n",
              "Female       474\n",
              "Male         470\n",
              "Other         42\n",
              "male           2\n",
              "FemalE         2\n",
              "Male           1\n",
              "Female         1\n",
              "   Female      1\n",
              "Name: count, dtype: int64"
            ]
          },
          "execution_count": 101,
          "metadata": {},
          "output_type": "execute_result"
        }
      ],
      "source": [
        "df[\"gender\"].value_counts()"
      ]
    },
    {
      "cell_type": "code",
      "execution_count": null,
      "id": "a6e4ee3c",
      "metadata": {},
      "outputs": [],
      "source": [
        "\n",
        "df['gender'] = df['gender'].str.strip().str.capitalize()\n",
        "\n",
        "df['gender'] = df['gender'].replace({\n",
        "    'FemalE': 'Female',\n",
        "    'Male': 'Male',\n",
        "    'Other': 'Other'\n",
        "})\n"
      ]
    },
    {
      "cell_type": "code",
      "execution_count": null,
      "id": "45aa449a",
      "metadata": {},
      "outputs": [],
      "source": [
        "df[\"gender\"].value_counts()"
      ]
    },
    {
      "cell_type": "code",
      "execution_count": null,
      "id": "2df38b23-d0e5-4f2b-b826-b0e66bb1b007",
      "metadata": {
        "id": "2df38b23-d0e5-4f2b-b826-b0e66bb1b007",
        "outputId": "65aec8bd-a98c-4937-b80e-3d4c28730b8e"
      },
      "outputs": [
        {
          "data": {
            "text/html": [
              "<div>\n",
              "<style scoped>\n",
              "    .dataframe tbody tr th:only-of-type {\n",
              "        vertical-align: middle;\n",
              "    }\n",
              "\n",
              "    .dataframe tbody tr th {\n",
              "        vertical-align: top;\n",
              "    }\n",
              "\n",
              "    .dataframe thead th {\n",
              "        text-align: right;\n",
              "    }\n",
              "</style>\n",
              "<table border=\"1\" class=\"dataframe\">\n",
              "  <thead>\n",
              "    <tr style=\"text-align: right;\">\n",
              "      <th></th>\n",
              "      <th>student_id</th>\n",
              "      <th>age</th>\n",
              "      <th>gender</th>\n",
              "      <th>study_hours_per_day</th>\n",
              "      <th>social_media_hours</th>\n",
              "      <th>netflix_hours</th>\n",
              "      <th>part_time_job</th>\n",
              "      <th>attendance_percentage</th>\n",
              "      <th>sleep_hours</th>\n",
              "      <th>diet_quality</th>\n",
              "      <th>exercise_frequency</th>\n",
              "      <th>internet_quality</th>\n",
              "      <th>mental_health_rating</th>\n",
              "      <th>extracurricular_participation</th>\n",
              "      <th>exam_score</th>\n",
              "    </tr>\n",
              "  </thead>\n",
              "  <tbody>\n",
              "    <tr>\n",
              "      <th>0</th>\n",
              "      <td>S1000</td>\n",
              "      <td>23</td>\n",
              "      <td>Female</td>\n",
              "      <td>0.0</td>\n",
              "      <td>1.2</td>\n",
              "      <td>1.1</td>\n",
              "      <td>No</td>\n",
              "      <td>85.0</td>\n",
              "      <td>8.0</td>\n",
              "      <td>Fair</td>\n",
              "      <td>6</td>\n",
              "      <td>Average</td>\n",
              "      <td>8</td>\n",
              "      <td>Yes</td>\n",
              "      <td>56.2</td>\n",
              "    </tr>\n",
              "    <tr>\n",
              "      <th>1</th>\n",
              "      <td>S1001</td>\n",
              "      <td>20</td>\n",
              "      <td>Female</td>\n",
              "      <td>6.9</td>\n",
              "      <td>2.8</td>\n",
              "      <td>2.3</td>\n",
              "      <td>No</td>\n",
              "      <td>97.3</td>\n",
              "      <td>4.6</td>\n",
              "      <td>Good</td>\n",
              "      <td>6</td>\n",
              "      <td>Average</td>\n",
              "      <td>8</td>\n",
              "      <td>No</td>\n",
              "      <td>100.0</td>\n",
              "    </tr>\n",
              "    <tr>\n",
              "      <th>6</th>\n",
              "      <td>S1004</td>\n",
              "      <td>19</td>\n",
              "      <td>Female</td>\n",
              "      <td>5.0</td>\n",
              "      <td>4.4</td>\n",
              "      <td>0.5</td>\n",
              "      <td>No</td>\n",
              "      <td>90.9</td>\n",
              "      <td>4.9</td>\n",
              "      <td>Fair</td>\n",
              "      <td>3</td>\n",
              "      <td>Good</td>\n",
              "      <td>1</td>\n",
              "      <td>No</td>\n",
              "      <td>66.4</td>\n",
              "    </tr>\n",
              "    <tr>\n",
              "      <th>7</th>\n",
              "      <td>S1005</td>\n",
              "      <td>24</td>\n",
              "      <td>Male</td>\n",
              "      <td>7.2</td>\n",
              "      <td>1.3</td>\n",
              "      <td>0.0</td>\n",
              "      <td>No</td>\n",
              "      <td>82.9</td>\n",
              "      <td>7.4</td>\n",
              "      <td>Fair</td>\n",
              "      <td>1</td>\n",
              "      <td>Average</td>\n",
              "      <td>4</td>\n",
              "      <td>No</td>\n",
              "      <td>100.0</td>\n",
              "    </tr>\n",
              "    <tr>\n",
              "      <th>8</th>\n",
              "      <td>S1006</td>\n",
              "      <td>21</td>\n",
              "      <td>Female</td>\n",
              "      <td>5.6</td>\n",
              "      <td>1.5</td>\n",
              "      <td>1.4</td>\n",
              "      <td>Yes</td>\n",
              "      <td>85.8</td>\n",
              "      <td>6.5</td>\n",
              "      <td>Good</td>\n",
              "      <td>2</td>\n",
              "      <td>Poor</td>\n",
              "      <td>4</td>\n",
              "      <td>No</td>\n",
              "      <td>89.8</td>\n",
              "    </tr>\n",
              "  </tbody>\n",
              "</table>\n",
              "</div>"
            ],
            "text/plain": [
              "  student_id  age  gender  study_hours_per_day  social_media_hours  \\\n",
              "0      S1000   23  Female                  0.0                 1.2   \n",
              "1      S1001   20  Female                  6.9                 2.8   \n",
              "6      S1004   19  Female                  5.0                 4.4   \n",
              "7      S1005   24    Male                  7.2                 1.3   \n",
              "8      S1006   21  Female                  5.6                 1.5   \n",
              "\n",
              "   netflix_hours part_time_job  attendance_percentage  sleep_hours  \\\n",
              "0            1.1            No                   85.0          8.0   \n",
              "1            2.3            No                   97.3          4.6   \n",
              "6            0.5            No                   90.9          4.9   \n",
              "7            0.0            No                   82.9          7.4   \n",
              "8            1.4           Yes                   85.8          6.5   \n",
              "\n",
              "  diet_quality  exercise_frequency internet_quality  mental_health_rating  \\\n",
              "0         Fair                   6          Average                     8   \n",
              "1         Good                   6          Average                     8   \n",
              "6         Fair                   3             Good                     1   \n",
              "7         Fair                   1          Average                     4   \n",
              "8         Good                   2             Poor                     4   \n",
              "\n",
              "  extracurricular_participation  exam_score  \n",
              "0                           Yes        56.2  \n",
              "1                            No       100.0  \n",
              "6                            No        66.4  \n",
              "7                            No       100.0  \n",
              "8                            No        89.8  "
            ]
          },
          "execution_count": 204,
          "metadata": {},
          "output_type": "execute_result"
        }
      ],
      "source": [
        "df.head()"
      ]
    },
    {
      "cell_type": "code",
      "execution_count": null,
      "id": "16c98fce-6c89-49e9-8102-117818cad389",
      "metadata": {
        "id": "16c98fce-6c89-49e9-8102-117818cad389"
      },
      "outputs": [],
      "source": [
        "# Strip whitespace and convert to consistent case (optional for cleaning later)\n",
        "df['gender'] = df['gender'].str.strip().str.lower()"
      ]
    },
    {
      "cell_type": "code",
      "execution_count": null,
      "id": "6c5cbb2d-9d0a-47ab-9562-f5d40b6229b0",
      "metadata": {
        "id": "6c5cbb2d-9d0a-47ab-9562-f5d40b6229b0",
        "outputId": "8572e5a4-f316-4724-eab3-2eeaeb969679"
      },
      "outputs": [
        {
          "name": "stdout",
          "output_type": "stream",
          "text": [
            "Unique gender values before cleaning:\n",
            "['Female' 'Male' 'Other']\n"
          ]
        }
      ],
      "source": [
        "# Example: Checking for inconsistent gender values\n",
        "print(\"Unique gender values before cleaning:\")\n",
        "print(df['gender'].unique())"
      ]
    },
    {
      "cell_type": "markdown",
      "id": "df63c993-31ea-450c-9572-11482aade13e",
      "metadata": {
        "id": "df63c993-31ea-450c-9572-11482aade13e"
      },
      "source": [
        "### Check for inconsistent date formats (if applicable)"
      ]
    },
    {
      "cell_type": "code",
      "execution_count": null,
      "id": "983d2666-370d-4c81-bee8-c7117fbcdf46",
      "metadata": {
        "id": "983d2666-370d-4c81-bee8-c7117fbcdf46",
        "outputId": "1ae94d03-473a-4ae3-b55a-d1683a1a4835"
      },
      "outputs": [
        {
          "data": {
            "text/plain": [
              "dtype('O')"
            ]
          },
          "execution_count": 205,
          "metadata": {},
          "output_type": "execute_result"
        }
      ],
      "source": [
        "df['gender'].dtype\n",
        "\n",
        "price -> $1,000"
      ]
    },
    {
      "cell_type": "code",
      "execution_count": null,
      "id": "f87e169d-732c-4b6c-814e-986543b41465",
      "metadata": {
        "id": "f87e169d-732c-4b6c-814e-986543b41465"
      },
      "outputs": [],
      "source": [
        "# Example: If there's a column like 'birth_date', check its format\n",
        "if 'birth_date' in df.columns:\n",
        "    print(\"Sample date values:\")\n",
        "    print(df['birth_date'].head())\n",
        "    print(\"Data type:\", df['birth_date'].dtype)"
      ]
    },
    {
      "cell_type": "code",
      "execution_count": null,
      "id": "639f0b5e-020b-4377-af9a-4b41482fc386",
      "metadata": {
        "id": "639f0b5e-020b-4377-af9a-4b41482fc386"
      },
      "outputs": [],
      "source": [
        "# df['birth_date'] = pd.to_datetime(df['birth_date'], format='%Y-%m-%d %h-%M-%s')"
      ]
    },
    {
      "cell_type": "markdown",
      "id": "1940fba5-b948-494e-9ff9-557c184a9a83",
      "metadata": {
        "id": "1940fba5-b948-494e-9ff9-557c184a9a83"
      },
      "source": [
        "### Check for numbers stored as strings"
      ]
    },
    {
      "cell_type": "code",
      "execution_count": null,
      "id": "bcb2ccc9-f9ef-47ba-b959-779876b508bc",
      "metadata": {
        "id": "bcb2ccc9-f9ef-47ba-b959-779876b508bc",
        "outputId": "7c88522c-72f6-4998-d4b5-d3d8fa346134"
      },
      "outputs": [
        {
          "name": "stdout",
          "output_type": "stream",
          "text": [
            "Columns with object dtype that may be numeric:\n",
            "Index(['student_id', 'gender', 'part_time_job', 'diet_quality',\n",
            "       'internet_quality', 'extracurricular_participation'],\n",
            "      dtype='object')\n"
          ]
        }
      ],
      "source": [
        "# Example: Check for numeric-looking columns that are stored as object (string)\n",
        "print(\"Columns with object dtype that may be numeric:\")\n",
        "print(df.select_dtypes(include='object').columns)"
      ]
    },
    {
      "cell_type": "code",
      "execution_count": null,
      "id": "4707293e-671a-4a0a-95ce-440638d12763",
      "metadata": {
        "id": "4707293e-671a-4a0a-95ce-440638d12763",
        "outputId": "06297455-bcd1-45a0-cbe8-18084cc6dc5b"
      },
      "outputs": [
        {
          "data": {
            "text/html": [
              "<div>\n",
              "<style scoped>\n",
              "    .dataframe tbody tr th:only-of-type {\n",
              "        vertical-align: middle;\n",
              "    }\n",
              "\n",
              "    .dataframe tbody tr th {\n",
              "        vertical-align: top;\n",
              "    }\n",
              "\n",
              "    .dataframe thead th {\n",
              "        text-align: right;\n",
              "    }\n",
              "</style>\n",
              "<table border=\"1\" class=\"dataframe\">\n",
              "  <thead>\n",
              "    <tr style=\"text-align: right;\">\n",
              "      <th></th>\n",
              "      <th>student_id</th>\n",
              "      <th>gender</th>\n",
              "      <th>part_time_job</th>\n",
              "      <th>diet_quality</th>\n",
              "      <th>internet_quality</th>\n",
              "      <th>extracurricular_participation</th>\n",
              "    </tr>\n",
              "  </thead>\n",
              "  <tbody>\n",
              "    <tr>\n",
              "      <th>0</th>\n",
              "      <td>S1000</td>\n",
              "      <td>Female</td>\n",
              "      <td>No</td>\n",
              "      <td>Fair</td>\n",
              "      <td>Average</td>\n",
              "      <td>Yes</td>\n",
              "    </tr>\n",
              "    <tr>\n",
              "      <th>1</th>\n",
              "      <td>S1001</td>\n",
              "      <td>Female</td>\n",
              "      <td>No</td>\n",
              "      <td>Good</td>\n",
              "      <td>Average</td>\n",
              "      <td>No</td>\n",
              "    </tr>\n",
              "    <tr>\n",
              "      <th>2</th>\n",
              "      <td>S1002</td>\n",
              "      <td>Male</td>\n",
              "      <td>No</td>\n",
              "      <td>Poor</td>\n",
              "      <td>Poor</td>\n",
              "      <td>No</td>\n",
              "    </tr>\n",
              "    <tr>\n",
              "      <th>3</th>\n",
              "      <td>S1003</td>\n",
              "      <td>Female</td>\n",
              "      <td>No</td>\n",
              "      <td>Poor</td>\n",
              "      <td>Good</td>\n",
              "      <td>Yes</td>\n",
              "    </tr>\n",
              "    <tr>\n",
              "      <th>6</th>\n",
              "      <td>S1004</td>\n",
              "      <td>Female</td>\n",
              "      <td>No</td>\n",
              "      <td>Fair</td>\n",
              "      <td>Good</td>\n",
              "      <td>No</td>\n",
              "    </tr>\n",
              "  </tbody>\n",
              "</table>\n",
              "</div>"
            ],
            "text/plain": [
              "  student_id  gender part_time_job diet_quality internet_quality  \\\n",
              "0      S1000  Female            No         Fair          Average   \n",
              "1      S1001  Female            No         Good          Average   \n",
              "2      S1002    Male            No         Poor             Poor   \n",
              "3      S1003  Female            No         Poor             Good   \n",
              "6      S1004  Female            No         Fair             Good   \n",
              "\n",
              "  extracurricular_participation  \n",
              "0                           Yes  \n",
              "1                            No  \n",
              "2                            No  \n",
              "3                           Yes  \n",
              "6                            No  "
            ]
          },
          "execution_count": 108,
          "metadata": {},
          "output_type": "execute_result"
        }
      ],
      "source": [
        "# Optionally display a sample to check\n",
        "df.select_dtypes(include='object').head()"
      ]
    },
    {
      "cell_type": "code",
      "execution_count": null,
      "id": "509cd1f5-bb37-43bb-9918-86f11165adfb",
      "metadata": {
        "id": "509cd1f5-bb37-43bb-9918-86f11165adfb",
        "outputId": "4af21ee6-0eb4-43ae-e13c-7edeee02da69"
      },
      "outputs": [
        {
          "name": "stdout",
          "output_type": "stream",
          "text": [
            "Columns with object dtype that may be numeric:\n",
            "Index(['age', 'study_hours_per_day', 'social_media_hours', 'netflix_hours',\n",
            "       'attendance_percentage', 'sleep_hours', 'exercise_frequency',\n",
            "       'mental_health_rating', 'exam_score'],\n",
            "      dtype='object')\n"
          ]
        },
        {
          "data": {
            "text/html": [
              "<div>\n",
              "<style scoped>\n",
              "    .dataframe tbody tr th:only-of-type {\n",
              "        vertical-align: middle;\n",
              "    }\n",
              "\n",
              "    .dataframe tbody tr th {\n",
              "        vertical-align: top;\n",
              "    }\n",
              "\n",
              "    .dataframe thead th {\n",
              "        text-align: right;\n",
              "    }\n",
              "</style>\n",
              "<table border=\"1\" class=\"dataframe\">\n",
              "  <thead>\n",
              "    <tr style=\"text-align: right;\">\n",
              "      <th></th>\n",
              "      <th>age</th>\n",
              "      <th>study_hours_per_day</th>\n",
              "      <th>social_media_hours</th>\n",
              "      <th>netflix_hours</th>\n",
              "      <th>attendance_percentage</th>\n",
              "      <th>sleep_hours</th>\n",
              "      <th>exercise_frequency</th>\n",
              "      <th>mental_health_rating</th>\n",
              "      <th>exam_score</th>\n",
              "    </tr>\n",
              "  </thead>\n",
              "  <tbody>\n",
              "    <tr>\n",
              "      <th>0</th>\n",
              "      <td>23</td>\n",
              "      <td>0.0</td>\n",
              "      <td>1.2</td>\n",
              "      <td>1.1</td>\n",
              "      <td>85.0</td>\n",
              "      <td>8.0</td>\n",
              "      <td>6</td>\n",
              "      <td>8</td>\n",
              "      <td>56.2</td>\n",
              "    </tr>\n",
              "    <tr>\n",
              "      <th>1</th>\n",
              "      <td>20</td>\n",
              "      <td>6.9</td>\n",
              "      <td>2.8</td>\n",
              "      <td>2.3</td>\n",
              "      <td>97.3</td>\n",
              "      <td>4.6</td>\n",
              "      <td>6</td>\n",
              "      <td>8</td>\n",
              "      <td>100.0</td>\n",
              "    </tr>\n",
              "    <tr>\n",
              "      <th>2</th>\n",
              "      <td>21</td>\n",
              "      <td>1.4</td>\n",
              "      <td>3.1</td>\n",
              "      <td>1.3</td>\n",
              "      <td>94.8</td>\n",
              "      <td>8.0</td>\n",
              "      <td>1</td>\n",
              "      <td>1</td>\n",
              "      <td>34.3</td>\n",
              "    </tr>\n",
              "    <tr>\n",
              "      <th>3</th>\n",
              "      <td>23</td>\n",
              "      <td>1.0</td>\n",
              "      <td>3.9</td>\n",
              "      <td>1.0</td>\n",
              "      <td>71.0</td>\n",
              "      <td>9.2</td>\n",
              "      <td>4</td>\n",
              "      <td>1</td>\n",
              "      <td>26.8</td>\n",
              "    </tr>\n",
              "    <tr>\n",
              "      <th>6</th>\n",
              "      <td>19</td>\n",
              "      <td>5.0</td>\n",
              "      <td>4.4</td>\n",
              "      <td>0.5</td>\n",
              "      <td>90.9</td>\n",
              "      <td>4.9</td>\n",
              "      <td>3</td>\n",
              "      <td>1</td>\n",
              "      <td>66.4</td>\n",
              "    </tr>\n",
              "  </tbody>\n",
              "</table>\n",
              "</div>"
            ],
            "text/plain": [
              "   age  study_hours_per_day  social_media_hours  netflix_hours  \\\n",
              "0   23                  0.0                 1.2            1.1   \n",
              "1   20                  6.9                 2.8            2.3   \n",
              "2   21                  1.4                 3.1            1.3   \n",
              "3   23                  1.0                 3.9            1.0   \n",
              "6   19                  5.0                 4.4            0.5   \n",
              "\n",
              "   attendance_percentage  sleep_hours  exercise_frequency  \\\n",
              "0                   85.0          8.0                   6   \n",
              "1                   97.3          4.6                   6   \n",
              "2                   94.8          8.0                   1   \n",
              "3                   71.0          9.2                   4   \n",
              "6                   90.9          4.9                   3   \n",
              "\n",
              "   mental_health_rating  exam_score  \n",
              "0                     8        56.2  \n",
              "1                     8       100.0  \n",
              "2                     1        34.3  \n",
              "3                     1        26.8  \n",
              "6                     1        66.4  "
            ]
          },
          "execution_count": 109,
          "metadata": {},
          "output_type": "execute_result"
        }
      ],
      "source": [
        "# Example: Check for numeric-looking columns that are stored as object (string)\n",
        "print(\"Columns with object dtype that may be numeric:\")\n",
        "print(df.select_dtypes(include='number').columns)\n",
        "df.select_dtypes(include='number').head()"
      ]
    },
    {
      "cell_type": "code",
      "execution_count": null,
      "id": "dbfb3470-2288-4e7e-8cca-95f88191070c",
      "metadata": {
        "id": "dbfb3470-2288-4e7e-8cca-95f88191070c"
      },
      "outputs": [],
      "source": [
        "# Remove dollar sign ($) and commas, then convert to numeric\n",
        "df['price'] = df['price'].replace({'\\$': '', ',': ''}, regex=True).astype(float)\n",
        "df.dtypes"
      ]
    },
    {
      "cell_type": "markdown",
      "id": "bb8e202c-46cc-4a63-b1cf-81c7ee0a635f",
      "metadata": {
        "id": "bb8e202c-46cc-4a63-b1cf-81c7ee0a635f"
      },
      "source": [
        "## Dealing with Outlier Detection"
      ]
    },
    {
      "cell_type": "markdown",
      "id": "ba19c816-bb56-401e-8600-50b0c684ea2e",
      "metadata": {
        "id": "ba19c816-bb56-401e-8600-50b0c684ea2e"
      },
      "source": [
        "### Detect Outliers Using IQR (Interquartile Range Method)"
      ]
    },
    {
      "cell_type": "code",
      "execution_count": null,
      "id": "99f8b395-8b63-49f4-86b0-925919dda442",
      "metadata": {
        "id": "99f8b395-8b63-49f4-86b0-925919dda442",
        "outputId": "236e3e75-33d2-45a1-c5fe-fd7441c69c5f"
      },
      "outputs": [
        {
          "name": "stdout",
          "output_type": "stream",
          "text": [
            "Number of outliers in 'exam_score' using IQR: 2\n"
          ]
        }
      ],
      "source": [
        "# Example: Detecting outliers in 'exam_score' column using IQR\n",
        "Q1 = df['exam_score'].quantile(0.25)\n",
        "Q3 = df['exam_score'].quantile(0.75)\n",
        "IQR = Q3 - Q1\n",
        "\n",
        "lower_bound = Q1 - 1.5 * IQR\n",
        "upper_bound = Q3 + 1.5 * IQR\n",
        "\n",
        "outliers_iqr = df[(df['exam_score'] < lower_bound) | (df['exam_score'] > upper_bound)]\n",
        "print(f\"Number of outliers in 'exam_score' using IQR: {len(outliers_iqr)}\")"
      ]
    },
    {
      "cell_type": "markdown",
      "id": "3fb8bd6d-a78d-48a9-adb7-adde87ff5d38",
      "metadata": {
        "id": "3fb8bd6d-a78d-48a9-adb7-adde87ff5d38"
      },
      "source": [
        "### Detect Outliers Using Z-Score"
      ]
    },
    {
      "cell_type": "code",
      "execution_count": null,
      "id": "d9eac7da-955d-431f-9125-02d6ecd2ec36",
      "metadata": {
        "id": "d9eac7da-955d-431f-9125-02d6ecd2ec36",
        "outputId": "c1290d4e-58f2-4701-c8ee-1578cca21bd5"
      },
      "outputs": [
        {
          "name": "stdout",
          "output_type": "stream",
          "text": [
            "Rows with outliers detected using Z-score:\n"
          ]
        },
        {
          "data": {
            "text/html": [
              "<div>\n",
              "<style scoped>\n",
              "    .dataframe tbody tr th:only-of-type {\n",
              "        vertical-align: middle;\n",
              "    }\n",
              "\n",
              "    .dataframe tbody tr th {\n",
              "        vertical-align: top;\n",
              "    }\n",
              "\n",
              "    .dataframe thead th {\n",
              "        text-align: right;\n",
              "    }\n",
              "</style>\n",
              "<table border=\"1\" class=\"dataframe\">\n",
              "  <thead>\n",
              "    <tr style=\"text-align: right;\">\n",
              "      <th></th>\n",
              "      <th>student_id</th>\n",
              "      <th>age</th>\n",
              "      <th>gender</th>\n",
              "      <th>study_hours_per_day</th>\n",
              "      <th>social_media_hours</th>\n",
              "      <th>netflix_hours</th>\n",
              "      <th>part_time_job</th>\n",
              "      <th>attendance_percentage</th>\n",
              "      <th>sleep_hours</th>\n",
              "      <th>diet_quality</th>\n",
              "      <th>exercise_frequency</th>\n",
              "      <th>internet_quality</th>\n",
              "      <th>mental_health_rating</th>\n",
              "      <th>extracurricular_participation</th>\n",
              "      <th>exam_score</th>\n",
              "    </tr>\n",
              "  </thead>\n",
              "  <tbody>\n",
              "    <tr>\n",
              "      <th>269</th>\n",
              "      <td>S1265</td>\n",
              "      <td>18</td>\n",
              "      <td>Female</td>\n",
              "      <td>0.6</td>\n",
              "      <td>3.1</td>\n",
              "      <td>3.0</td>\n",
              "      <td>No</td>\n",
              "      <td>79.9</td>\n",
              "      <td>5.2</td>\n",
              "      <td>Good</td>\n",
              "      <td>1</td>\n",
              "      <td>Good</td>\n",
              "      <td>4</td>\n",
              "      <td>No</td>\n",
              "      <td>18.4</td>\n",
              "    </tr>\n",
              "  </tbody>\n",
              "</table>\n",
              "</div>"
            ],
            "text/plain": [
              "    student_id  age  gender  study_hours_per_day  social_media_hours  \\\n",
              "269      S1265   18  Female                  0.6                 3.1   \n",
              "\n",
              "     netflix_hours part_time_job  attendance_percentage  sleep_hours  \\\n",
              "269            3.0            No                   79.9          5.2   \n",
              "\n",
              "    diet_quality  exercise_frequency internet_quality  mental_health_rating  \\\n",
              "269         Good                   1             Good                     4   \n",
              "\n",
              "    extracurricular_participation  exam_score  \n",
              "269                            No        18.4  "
            ]
          },
          "metadata": {},
          "output_type": "display_data"
        }
      ],
      "source": [
        "# Detecting outliers using Z-score\n",
        "from scipy.stats import zscore\n",
        "\n",
        "# Compute Z-scores for 'exam_score'\n",
        "z_scores = zscore(df['exam_score'])\n",
        "outliers_z = df[(z_scores > 3) | (z_scores < -3)]\n",
        "\n",
        "# Output the rows with outliers\n",
        "print(\"Rows with outliers detected using Z-score:\")\n",
        "display(outliers_z)"
      ]
    },
    {
      "cell_type": "markdown",
      "id": "65b2d07d-9ded-4414-a072-abe6add02376",
      "metadata": {
        "id": "65b2d07d-9ded-4414-a072-abe6add02376"
      },
      "source": [
        "### Boxplot Visualization for Outliers"
      ]
    },
    {
      "cell_type": "code",
      "execution_count": null,
      "id": "309f9ef2-3cde-4aac-997d-60be059e4ff1",
      "metadata": {
        "id": "309f9ef2-3cde-4aac-997d-60be059e4ff1",
        "outputId": "0f2f26df-bd18-4780-dee8-6b3e58a3529f"
      },
      "outputs": [
        {
          "data": {
            "image/png": "[encoded data removed]",
            "text/plain": [
              "<Figure size 800x400 with 1 Axes>"
            ]
          },
          "metadata": {},
          "output_type": "display_data"
        }
      ],
      "source": [
        "import seaborn as sns\n",
        "import matplotlib.pyplot as plt\n",
        "\n",
        "# Visualize 'exam_score' outliers using a boxplot\n",
        "plt.figure(figsize=(8, 4))\n",
        "sns.boxplot(y=df['exam_score'])\n",
        "plt.title(\"Boxplot of Exam Scores\")\n",
        "plt.show()"
      ]
    },
    {
      "cell_type": "code",
      "execution_count": null,
      "id": "ac1054cb-d710-4a14-a72c-88ca8442efc7",
      "metadata": {
        "id": "ac1054cb-d710-4a14-a72c-88ca8442efc7",
        "outputId": "98cbb2ad-c969-4cc8-c009-893842656ecd"
      },
      "outputs": [
        {
          "data": {
            "image/png": "[encoded data removed]",
            "text/plain": [
              "<Figure size 800x600 with 1 Axes>"
            ]
          },
          "metadata": {},
          "output_type": "display_data"
        }
      ],
      "source": [
        "import matplotlib.pyplot as plt\n",
        "\n",
        "# Scatter plot to visualize the relationship between 'study_hours_per_day' and 'exam_score'\n",
        "plt.figure(figsize=(8, 6))\n",
        "plt.scatter(df['study_hours_per_day'], df['exam_score'], color='blue', alpha=0.5)\n",
        "plt.title('Scatter Plot: Study Hours vs Exam Score')\n",
        "plt.xlabel('Study Hours per Day')\n",
        "plt.ylabel('Exam Score')\n",
        "plt.grid(True)\n",
        "\n",
        "# Display the plot\n",
        "plt.show()"
      ]
    },
    {
      "cell_type": "markdown",
      "id": "439f70c5-cc2b-4f35-bf6f-710159101e33",
      "metadata": {
        "id": "439f70c5-cc2b-4f35-bf6f-710159101e33"
      },
      "source": [
        "## Remove Outliers\n",
        "- When outliers are errors or clearly incorrect, it’s often appropriate to remove them. Here’s an example of removing outliers based on the Interquartile Range (IQR)"
      ]
    },
    {
      "cell_type": "code",
      "execution_count": null,
      "id": "2c0e22e5-b8af-48a2-844f-1ea22a3f89ee",
      "metadata": {
        "id": "2c0e22e5-b8af-48a2-844f-1ea22a3f89ee",
        "outputId": "186c1acb-fe91-4a35-9ad5-9f3013ea7c68"
      },
      "outputs": [
        {
          "data": {
            "text/html": [
              "<div>\n",
              "<style scoped>\n",
              "    .dataframe tbody tr th:only-of-type {\n",
              "        vertical-align: middle;\n",
              "    }\n",
              "\n",
              "    .dataframe tbody tr th {\n",
              "        vertical-align: top;\n",
              "    }\n",
              "\n",
              "    .dataframe thead th {\n",
              "        text-align: right;\n",
              "    }\n",
              "</style>\n",
              "<table border=\"1\" class=\"dataframe\">\n",
              "  <thead>\n",
              "    <tr style=\"text-align: right;\">\n",
              "      <th></th>\n",
              "      <th>student_id</th>\n",
              "      <th>age</th>\n",
              "      <th>gender</th>\n",
              "      <th>study_hours_per_day</th>\n",
              "      <th>social_media_hours</th>\n",
              "      <th>netflix_hours</th>\n",
              "      <th>part_time_job</th>\n",
              "      <th>attendance_percentage</th>\n",
              "      <th>sleep_hours</th>\n",
              "      <th>diet_quality</th>\n",
              "      <th>exercise_frequency</th>\n",
              "      <th>internet_quality</th>\n",
              "      <th>mental_health_rating</th>\n",
              "      <th>extracurricular_participation</th>\n",
              "      <th>exam_score</th>\n",
              "    </tr>\n",
              "  </thead>\n",
              "  <tbody>\n",
              "    <tr>\n",
              "      <th>0</th>\n",
              "      <td>S1000</td>\n",
              "      <td>23</td>\n",
              "      <td>Female</td>\n",
              "      <td>0.0</td>\n",
              "      <td>1.2</td>\n",
              "      <td>1.1</td>\n",
              "      <td>No</td>\n",
              "      <td>85.0</td>\n",
              "      <td>8.0</td>\n",
              "      <td>Fair</td>\n",
              "      <td>6</td>\n",
              "      <td>Average</td>\n",
              "      <td>8</td>\n",
              "      <td>Yes</td>\n",
              "      <td>56.2</td>\n",
              "    </tr>\n",
              "    <tr>\n",
              "      <th>1</th>\n",
              "      <td>S1001</td>\n",
              "      <td>20</td>\n",
              "      <td>Female</td>\n",
              "      <td>6.9</td>\n",
              "      <td>2.8</td>\n",
              "      <td>2.3</td>\n",
              "      <td>No</td>\n",
              "      <td>97.3</td>\n",
              "      <td>4.6</td>\n",
              "      <td>Good</td>\n",
              "      <td>6</td>\n",
              "      <td>Average</td>\n",
              "      <td>8</td>\n",
              "      <td>No</td>\n",
              "      <td>100.0</td>\n",
              "    </tr>\n",
              "    <tr>\n",
              "      <th>6</th>\n",
              "      <td>S1004</td>\n",
              "      <td>19</td>\n",
              "      <td>Female</td>\n",
              "      <td>5.0</td>\n",
              "      <td>4.4</td>\n",
              "      <td>0.5</td>\n",
              "      <td>No</td>\n",
              "      <td>90.9</td>\n",
              "      <td>4.9</td>\n",
              "      <td>Fair</td>\n",
              "      <td>3</td>\n",
              "      <td>Good</td>\n",
              "      <td>1</td>\n",
              "      <td>No</td>\n",
              "      <td>66.4</td>\n",
              "    </tr>\n",
              "    <tr>\n",
              "      <th>7</th>\n",
              "      <td>S1005</td>\n",
              "      <td>24</td>\n",
              "      <td>Male</td>\n",
              "      <td>7.2</td>\n",
              "      <td>1.3</td>\n",
              "      <td>0.0</td>\n",
              "      <td>No</td>\n",
              "      <td>82.9</td>\n",
              "      <td>7.4</td>\n",
              "      <td>Fair</td>\n",
              "      <td>1</td>\n",
              "      <td>Average</td>\n",
              "      <td>4</td>\n",
              "      <td>No</td>\n",
              "      <td>100.0</td>\n",
              "    </tr>\n",
              "    <tr>\n",
              "      <th>8</th>\n",
              "      <td>S1006</td>\n",
              "      <td>21</td>\n",
              "      <td>Female</td>\n",
              "      <td>5.6</td>\n",
              "      <td>1.5</td>\n",
              "      <td>1.4</td>\n",
              "      <td>Yes</td>\n",
              "      <td>85.8</td>\n",
              "      <td>6.5</td>\n",
              "      <td>Good</td>\n",
              "      <td>2</td>\n",
              "      <td>Poor</td>\n",
              "      <td>4</td>\n",
              "      <td>No</td>\n",
              "      <td>89.8</td>\n",
              "    </tr>\n",
              "  </tbody>\n",
              "</table>\n",
              "</div>"
            ],
            "text/plain": [
              "  student_id  age  gender  study_hours_per_day  social_media_hours  \\\n",
              "0      S1000   23  Female                  0.0                 1.2   \n",
              "1      S1001   20  Female                  6.9                 2.8   \n",
              "6      S1004   19  Female                  5.0                 4.4   \n",
              "7      S1005   24    Male                  7.2                 1.3   \n",
              "8      S1006   21  Female                  5.6                 1.5   \n",
              "\n",
              "   netflix_hours part_time_job  attendance_percentage  sleep_hours  \\\n",
              "0            1.1            No                   85.0          8.0   \n",
              "1            2.3            No                   97.3          4.6   \n",
              "6            0.5            No                   90.9          4.9   \n",
              "7            0.0            No                   82.9          7.4   \n",
              "8            1.4           Yes                   85.8          6.5   \n",
              "\n",
              "  diet_quality  exercise_frequency internet_quality  mental_health_rating  \\\n",
              "0         Fair                   6          Average                     8   \n",
              "1         Good                   6          Average                     8   \n",
              "6         Fair                   3             Good                     1   \n",
              "7         Fair                   1          Average                     4   \n",
              "8         Good                   2             Poor                     4   \n",
              "\n",
              "  extracurricular_participation  exam_score  \n",
              "0                           Yes        56.2  \n",
              "1                            No       100.0  \n",
              "6                            No        66.4  \n",
              "7                            No       100.0  \n",
              "8                            No        89.8  "
            ]
          },
          "execution_count": 211,
          "metadata": {},
          "output_type": "execute_result"
        }
      ],
      "source": [
        "# Calculate IQR for 'exam_score'\n",
        "Q1 = df['exam_score'].quantile(0.25)\n",
        "Q3 = df['exam_score'].quantile(0.75)\n",
        "IQR = Q3 - Q1\n",
        "\n",
        "# Define the outlier bounds\n",
        "lower_bound = Q1 - 1.5 * IQR\n",
        "upper_bound = Q3 + 1.5 * IQR\n",
        "\n",
        "# Remove outliers from 'exam_score'\n",
        "df_no_outliers = df[(df['exam_score'] >= lower_bound) & (df['exam_score'] <= upper_bound)]\n",
        "\n",
        "# Display the updated DataFrame without outliers\n",
        "df_no_outliers.head()"
      ]
    },
    {
      "cell_type": "code",
      "execution_count": null,
      "id": "5d3e59ce-f5ba-42bd-bad2-fc3f62e034fa",
      "metadata": {
        "id": "5d3e59ce-f5ba-42bd-bad2-fc3f62e034fa",
        "outputId": "c6a890a3-910a-4f4e-d34e-d1cd756be279"
      },
      "outputs": [
        {
          "data": {
            "image/png": "[encoded data removed]",
            "text/plain": [
              "<Figure size 800x400 with 1 Axes>"
            ]
          },
          "metadata": {},
          "output_type": "display_data"
        }
      ],
      "source": [
        "import seaborn as sns\n",
        "import matplotlib.pyplot as plt\n",
        "\n",
        "# Visualize 'exam_score' outliers using a boxplot\n",
        "plt.figure(figsize=(8, 4))\n",
        "sns.boxplot(x=df_no_outliers['exam_score'])\n",
        "plt.title(\"Boxplot of Exam Scores\")\n",
        "plt.show()"
      ]
    },
    {
      "cell_type": "markdown",
      "id": "cfaa5e9c-c416-46c6-8d98-0260860cdd4c",
      "metadata": {
        "id": "cfaa5e9c-c416-46c6-8d98-0260860cdd4c"
      },
      "source": [
        "### Cap (Winsorize) Outliers\n",
        "- Winsorizing outliers involves limiting extreme values to a certain threshold instead of removing them entirely. Here's how you can cap outliers"
      ]
    },
    {
      "cell_type": "code",
      "execution_count": null,
      "id": "6c1518fb-e387-46b7-99ea-fadea4b20ae8",
      "metadata": {
        "id": "6c1518fb-e387-46b7-99ea-fadea4b20ae8",
        "outputId": "f893b595-86f7-43d6-cb21-6c508430f27d"
      },
      "outputs": [
        {
          "data": {
            "text/html": [
              "<div>\n",
              "<style scoped>\n",
              "    .dataframe tbody tr th:only-of-type {\n",
              "        vertical-align: middle;\n",
              "    }\n",
              "\n",
              "    .dataframe tbody tr th {\n",
              "        vertical-align: top;\n",
              "    }\n",
              "\n",
              "    .dataframe thead th {\n",
              "        text-align: right;\n",
              "    }\n",
              "</style>\n",
              "<table border=\"1\" class=\"dataframe\">\n",
              "  <thead>\n",
              "    <tr style=\"text-align: right;\">\n",
              "      <th></th>\n",
              "      <th>student_id</th>\n",
              "      <th>age</th>\n",
              "      <th>gender</th>\n",
              "      <th>study_hours_per_day</th>\n",
              "      <th>social_media_hours</th>\n",
              "      <th>netflix_hours</th>\n",
              "      <th>part_time_job</th>\n",
              "      <th>attendance_percentage</th>\n",
              "      <th>sleep_hours</th>\n",
              "      <th>diet_quality</th>\n",
              "      <th>exercise_frequency</th>\n",
              "      <th>internet_quality</th>\n",
              "      <th>mental_health_rating</th>\n",
              "      <th>extracurricular_participation</th>\n",
              "      <th>exam_score</th>\n",
              "    </tr>\n",
              "  </thead>\n",
              "  <tbody>\n",
              "    <tr>\n",
              "      <th>0</th>\n",
              "      <td>S1000</td>\n",
              "      <td>23</td>\n",
              "      <td>Female</td>\n",
              "      <td>0.0</td>\n",
              "      <td>1.2</td>\n",
              "      <td>1.1</td>\n",
              "      <td>No</td>\n",
              "      <td>85.0</td>\n",
              "      <td>8.0</td>\n",
              "      <td>Fair</td>\n",
              "      <td>6</td>\n",
              "      <td>Average</td>\n",
              "      <td>8</td>\n",
              "      <td>Yes</td>\n",
              "      <td>41.7</td>\n",
              "    </tr>\n",
              "    <tr>\n",
              "      <th>1</th>\n",
              "      <td>S1001</td>\n",
              "      <td>20</td>\n",
              "      <td>Female</td>\n",
              "      <td>6.9</td>\n",
              "      <td>2.8</td>\n",
              "      <td>2.3</td>\n",
              "      <td>No</td>\n",
              "      <td>97.3</td>\n",
              "      <td>4.6</td>\n",
              "      <td>Good</td>\n",
              "      <td>6</td>\n",
              "      <td>Average</td>\n",
              "      <td>8</td>\n",
              "      <td>No</td>\n",
              "      <td>41.7</td>\n",
              "    </tr>\n",
              "    <tr>\n",
              "      <th>2</th>\n",
              "      <td>S1002</td>\n",
              "      <td>21</td>\n",
              "      <td>Male</td>\n",
              "      <td>1.4</td>\n",
              "      <td>3.1</td>\n",
              "      <td>1.3</td>\n",
              "      <td>No</td>\n",
              "      <td>94.8</td>\n",
              "      <td>8.0</td>\n",
              "      <td>Poor</td>\n",
              "      <td>1</td>\n",
              "      <td>Poor</td>\n",
              "      <td>1</td>\n",
              "      <td>No</td>\n",
              "      <td>41.7</td>\n",
              "    </tr>\n",
              "    <tr>\n",
              "      <th>3</th>\n",
              "      <td>S1003</td>\n",
              "      <td>23</td>\n",
              "      <td>Female</td>\n",
              "      <td>1.0</td>\n",
              "      <td>3.9</td>\n",
              "      <td>1.0</td>\n",
              "      <td>No</td>\n",
              "      <td>71.0</td>\n",
              "      <td>9.2</td>\n",
              "      <td>Poor</td>\n",
              "      <td>4</td>\n",
              "      <td>Good</td>\n",
              "      <td>1</td>\n",
              "      <td>Yes</td>\n",
              "      <td>41.7</td>\n",
              "    </tr>\n",
              "    <tr>\n",
              "      <th>6</th>\n",
              "      <td>S1004</td>\n",
              "      <td>19</td>\n",
              "      <td>Female</td>\n",
              "      <td>5.0</td>\n",
              "      <td>4.4</td>\n",
              "      <td>0.5</td>\n",
              "      <td>No</td>\n",
              "      <td>90.9</td>\n",
              "      <td>4.9</td>\n",
              "      <td>Fair</td>\n",
              "      <td>3</td>\n",
              "      <td>Good</td>\n",
              "      <td>1</td>\n",
              "      <td>No</td>\n",
              "      <td>41.7</td>\n",
              "    </tr>\n",
              "    <tr>\n",
              "      <th>...</th>\n",
              "      <td>...</td>\n",
              "      <td>...</td>\n",
              "      <td>...</td>\n",
              "      <td>...</td>\n",
              "      <td>...</td>\n",
              "      <td>...</td>\n",
              "      <td>...</td>\n",
              "      <td>...</td>\n",
              "      <td>...</td>\n",
              "      <td>...</td>\n",
              "      <td>...</td>\n",
              "      <td>...</td>\n",
              "      <td>...</td>\n",
              "      <td>...</td>\n",
              "      <td>...</td>\n",
              "    </tr>\n",
              "    <tr>\n",
              "      <th>999</th>\n",
              "      <td>S1995</td>\n",
              "      <td>21</td>\n",
              "      <td>Female</td>\n",
              "      <td>2.6</td>\n",
              "      <td>0.5</td>\n",
              "      <td>1.6</td>\n",
              "      <td>No</td>\n",
              "      <td>77.0</td>\n",
              "      <td>7.5</td>\n",
              "      <td>Fair</td>\n",
              "      <td>2</td>\n",
              "      <td>Good</td>\n",
              "      <td>6</td>\n",
              "      <td>Yes</td>\n",
              "      <td>41.7</td>\n",
              "    </tr>\n",
              "    <tr>\n",
              "      <th>1000</th>\n",
              "      <td>S1996</td>\n",
              "      <td>17</td>\n",
              "      <td>Female</td>\n",
              "      <td>2.9</td>\n",
              "      <td>1.0</td>\n",
              "      <td>2.4</td>\n",
              "      <td>Yes</td>\n",
              "      <td>86.0</td>\n",
              "      <td>6.8</td>\n",
              "      <td>Poor</td>\n",
              "      <td>1</td>\n",
              "      <td>Average</td>\n",
              "      <td>6</td>\n",
              "      <td>Yes</td>\n",
              "      <td>41.7</td>\n",
              "    </tr>\n",
              "    <tr>\n",
              "      <th>1001</th>\n",
              "      <td>S1997</td>\n",
              "      <td>20</td>\n",
              "      <td>Male</td>\n",
              "      <td>3.0</td>\n",
              "      <td>2.6</td>\n",
              "      <td>1.3</td>\n",
              "      <td>No</td>\n",
              "      <td>61.9</td>\n",
              "      <td>6.5</td>\n",
              "      <td>Good</td>\n",
              "      <td>5</td>\n",
              "      <td>Good</td>\n",
              "      <td>9</td>\n",
              "      <td>Yes</td>\n",
              "      <td>41.7</td>\n",
              "    </tr>\n",
              "    <tr>\n",
              "      <th>1002</th>\n",
              "      <td>S1998</td>\n",
              "      <td>24</td>\n",
              "      <td>Male</td>\n",
              "      <td>5.4</td>\n",
              "      <td>4.1</td>\n",
              "      <td>1.1</td>\n",
              "      <td>Yes</td>\n",
              "      <td>100.0</td>\n",
              "      <td>7.6</td>\n",
              "      <td>Fair</td>\n",
              "      <td>0</td>\n",
              "      <td>Average</td>\n",
              "      <td>1</td>\n",
              "      <td>No</td>\n",
              "      <td>41.7</td>\n",
              "    </tr>\n",
              "    <tr>\n",
              "      <th>1003</th>\n",
              "      <td>S1999</td>\n",
              "      <td>19</td>\n",
              "      <td>Female</td>\n",
              "      <td>4.3</td>\n",
              "      <td>2.9</td>\n",
              "      <td>1.9</td>\n",
              "      <td>No</td>\n",
              "      <td>89.4</td>\n",
              "      <td>7.1</td>\n",
              "      <td>Good</td>\n",
              "      <td>2</td>\n",
              "      <td>Average</td>\n",
              "      <td>8</td>\n",
              "      <td>No</td>\n",
              "      <td>41.7</td>\n",
              "    </tr>\n",
              "  </tbody>\n",
              "</table>\n",
              "<p>993 rows × 15 columns</p>\n",
              "</div>"
            ],
            "text/plain": [
              "     student_id  age  gender  study_hours_per_day  social_media_hours  \\\n",
              "0         S1000   23  Female                  0.0                 1.2   \n",
              "1         S1001   20  Female                  6.9                 2.8   \n",
              "2         S1002   21    Male                  1.4                 3.1   \n",
              "3         S1003   23  Female                  1.0                 3.9   \n",
              "6         S1004   19  Female                  5.0                 4.4   \n",
              "...         ...  ...     ...                  ...                 ...   \n",
              "999       S1995   21  Female                  2.6                 0.5   \n",
              "1000      S1996   17  Female                  2.9                 1.0   \n",
              "1001      S1997   20    Male                  3.0                 2.6   \n",
              "1002      S1998   24    Male                  5.4                 4.1   \n",
              "1003      S1999   19  Female                  4.3                 2.9   \n",
              "\n",
              "      netflix_hours part_time_job  attendance_percentage  sleep_hours  \\\n",
              "0               1.1            No                   85.0          8.0   \n",
              "1               2.3            No                   97.3          4.6   \n",
              "2               1.3            No                   94.8          8.0   \n",
              "3               1.0            No                   71.0          9.2   \n",
              "6               0.5            No                   90.9          4.9   \n",
              "...             ...           ...                    ...          ...   \n",
              "999             1.6            No                   77.0          7.5   \n",
              "1000            2.4           Yes                   86.0          6.8   \n",
              "1001            1.3            No                   61.9          6.5   \n",
              "1002            1.1           Yes                  100.0          7.6   \n",
              "1003            1.9            No                   89.4          7.1   \n",
              "\n",
              "     diet_quality  exercise_frequency internet_quality  mental_health_rating  \\\n",
              "0            Fair                   6          Average                     8   \n",
              "1            Good                   6          Average                     8   \n",
              "2            Poor                   1             Poor                     1   \n",
              "3            Poor                   4             Good                     1   \n",
              "6            Fair                   3             Good                     1   \n",
              "...           ...                 ...              ...                   ...   \n",
              "999          Fair                   2             Good                     6   \n",
              "1000         Poor                   1          Average                     6   \n",
              "1001         Good                   5             Good                     9   \n",
              "1002     Fair                       0          Average                     1   \n",
              "1003         Good                   2          Average                     8   \n",
              "\n",
              "     extracurricular_participation  exam_score  \n",
              "0                              Yes        41.7  \n",
              "1                               No        41.7  \n",
              "2                               No        41.7  \n",
              "3                              Yes        41.7  \n",
              "6                               No        41.7  \n",
              "...                            ...         ...  \n",
              "999                            Yes        41.7  \n",
              "1000                           Yes        41.7  \n",
              "1001                           Yes        41.7  \n",
              "1002                            No        41.7  \n",
              "1003                            No        41.7  \n",
              "\n",
              "[993 rows x 15 columns]"
            ]
          },
          "execution_count": 118,
          "metadata": {},
          "output_type": "execute_result"
        }
      ],
      "source": [
        "from scipy.stats import mstats\n",
        "\n",
        "# Cap 'exam_score' values at the 5th and 95th percentile\n",
        "df['exam_score'] = mstats.winsorize(df['exam_score'], limits=[0.05, 0.95])\n",
        "df"
      ]
    },
    {
      "cell_type": "markdown",
      "id": "c1110f48-5f7d-484a-83b2-7fa2c01095cc",
      "metadata": {
        "id": "c1110f48-5f7d-484a-83b2-7fa2c01095cc"
      },
      "source": [
        "### Scale Outliers Using Log Transformation\n",
        "- Scaling outliers can help reduce their effect. One common approach is using a log transformation"
      ]
    },
    {
      "cell_type": "code",
      "execution_count": null,
      "id": "97df01a9-b5dc-4857-94e5-d73519a63988",
      "metadata": {
        "id": "97df01a9-b5dc-4857-94e5-d73519a63988",
        "outputId": "8415ba02-3c4e-4f0e-d1c4-bfa764c41b5a"
      },
      "outputs": [
        {
          "data": {
            "text/html": [
              "<div>\n",
              "<style scoped>\n",
              "    .dataframe tbody tr th:only-of-type {\n",
              "        vertical-align: middle;\n",
              "    }\n",
              "\n",
              "    .dataframe tbody tr th {\n",
              "        vertical-align: top;\n",
              "    }\n",
              "\n",
              "    .dataframe thead th {\n",
              "        text-align: right;\n",
              "    }\n",
              "</style>\n",
              "<table border=\"1\" class=\"dataframe\">\n",
              "  <thead>\n",
              "    <tr style=\"text-align: right;\">\n",
              "      <th></th>\n",
              "      <th>exam_score</th>\n",
              "      <th>exam_score_log</th>\n",
              "    </tr>\n",
              "  </thead>\n",
              "  <tbody>\n",
              "    <tr>\n",
              "      <th>0</th>\n",
              "      <td>56.2</td>\n",
              "      <td>4.046554</td>\n",
              "    </tr>\n",
              "    <tr>\n",
              "      <th>1</th>\n",
              "      <td>100.0</td>\n",
              "      <td>4.615121</td>\n",
              "    </tr>\n",
              "    <tr>\n",
              "      <th>6</th>\n",
              "      <td>66.4</td>\n",
              "      <td>4.210645</td>\n",
              "    </tr>\n",
              "    <tr>\n",
              "      <th>7</th>\n",
              "      <td>100.0</td>\n",
              "      <td>4.615121</td>\n",
              "    </tr>\n",
              "    <tr>\n",
              "      <th>8</th>\n",
              "      <td>89.8</td>\n",
              "      <td>4.508659</td>\n",
              "    </tr>\n",
              "    <tr>\n",
              "      <th>...</th>\n",
              "      <td>...</td>\n",
              "      <td>...</td>\n",
              "    </tr>\n",
              "    <tr>\n",
              "      <th>999</th>\n",
              "      <td>76.1</td>\n",
              "      <td>4.345103</td>\n",
              "    </tr>\n",
              "    <tr>\n",
              "      <th>1000</th>\n",
              "      <td>65.9</td>\n",
              "      <td>4.203199</td>\n",
              "    </tr>\n",
              "    <tr>\n",
              "      <th>1001</th>\n",
              "      <td>64.4</td>\n",
              "      <td>4.180522</td>\n",
              "    </tr>\n",
              "    <tr>\n",
              "      <th>1002</th>\n",
              "      <td>69.7</td>\n",
              "      <td>4.258446</td>\n",
              "    </tr>\n",
              "    <tr>\n",
              "      <th>1003</th>\n",
              "      <td>74.9</td>\n",
              "      <td>4.329417</td>\n",
              "    </tr>\n",
              "  </tbody>\n",
              "</table>\n",
              "<p>989 rows × 2 columns</p>\n",
              "</div>"
            ],
            "text/plain": [
              "      exam_score  exam_score_log\n",
              "0           56.2        4.046554\n",
              "1          100.0        4.615121\n",
              "6           66.4        4.210645\n",
              "7          100.0        4.615121\n",
              "8           89.8        4.508659\n",
              "...          ...             ...\n",
              "999         76.1        4.345103\n",
              "1000        65.9        4.203199\n",
              "1001        64.4        4.180522\n",
              "1002        69.7        4.258446\n",
              "1003        74.9        4.329417\n",
              "\n",
              "[989 rows x 2 columns]"
            ]
          },
          "execution_count": 213,
          "metadata": {},
          "output_type": "execute_result"
        }
      ],
      "source": [
        "import numpy as np\n",
        "\n",
        "# Apply log transformation to 'exam_score' (ensure all values are positive)\n",
        "df['exam_score_log'] = np.log1p(df['exam_score'])\n",
        "\n",
        "df[['exam_score', 'exam_score_log']]"
      ]
    },
    {
      "cell_type": "markdown",
      "id": "1ce8cda9-2814-4b82-a34e-7c946072f7a9",
      "metadata": {
        "id": "1ce8cda9-2814-4b82-a34e-7c946072f7a9"
      },
      "source": [
        "## Check Data Types of Columns"
      ]
    },
    {
      "cell_type": "code",
      "execution_count": null,
      "id": "9d658ae0-031b-42f4-b1bb-745af14d2c1b",
      "metadata": {
        "id": "9d658ae0-031b-42f4-b1bb-745af14d2c1b",
        "outputId": "ada2e1bf-9ae5-4ba6-85dc-a4268c956557"
      },
      "outputs": [
        {
          "data": {
            "text/plain": [
              "student_id                        object\n",
              "age                                int64\n",
              "gender                            object\n",
              "study_hours_per_day              float64\n",
              "social_media_hours               float64\n",
              "netflix_hours                    float64\n",
              "part_time_job                     object\n",
              "attendance_percentage            float64\n",
              "sleep_hours                      float64\n",
              "diet_quality                      object\n",
              "exercise_frequency                 int64\n",
              "internet_quality                  object\n",
              "mental_health_rating               int64\n",
              "extracurricular_participation     object\n",
              "exam_score                       float64\n",
              "exam_score_log                   float64\n",
              "dtype: object"
            ]
          },
          "execution_count": 120,
          "metadata": {},
          "output_type": "execute_result"
        }
      ],
      "source": [
        "# Check the data types of each column\n",
        "df.dtypes"
      ]
    },
    {
      "cell_type": "markdown",
      "id": "f8496510-862a-4b4b-aeb5-9653e210dc3e",
      "metadata": {
        "id": "f8496510-862a-4b4b-aeb5-9653e210dc3e"
      },
      "source": [
        "### Convert Column to Numeric"
      ]
    },
    {
      "cell_type": "code",
      "execution_count": null,
      "id": "611b6806-98ac-4b80-9c81-0820f0f90cff",
      "metadata": {
        "id": "611b6806-98ac-4b80-9c81-0820f0f90cff",
        "outputId": "751ad085-f67b-4fbd-efb5-9c416b288631"
      },
      "outputs": [
        {
          "data": {
            "text/plain": [
              "dtype('float64')"
            ]
          },
          "execution_count": 121,
          "metadata": {},
          "output_type": "execute_result"
        }
      ],
      "source": [
        "# Convert 'attendance_percentage' to numeric (float)\n",
        "df['attendance_percentage'] = pd.to_numeric(df['attendance_percentage'], errors='coerce')\n",
        "df['attendance_percentage'].dtype"
      ]
    },
    {
      "cell_type": "markdown",
      "id": "22bde973-6842-462b-a6dd-8de0ad776314",
      "metadata": {
        "id": "22bde973-6842-462b-a6dd-8de0ad776314"
      },
      "source": [
        "### Convert Column to Datetime"
      ]
    },
    {
      "cell_type": "code",
      "execution_count": null,
      "id": "19215363-fa21-4525-92d3-8850fa4ab909",
      "metadata": {
        "id": "19215363-fa21-4525-92d3-8850fa4ab909"
      },
      "outputs": [],
      "source": [
        "# Assuming there's a 'date_column' with date information in string format\n",
        "df['date_column'] = pd.to_datetime(df['date_column'], errors='coerce')\n",
        "df['date_column'].dtype"
      ]
    },
    {
      "cell_type": "markdown",
      "id": "28c4b221-4cf6-49d4-b16e-dcb2b79bb23d",
      "metadata": {
        "id": "28c4b221-4cf6-49d4-b16e-dcb2b79bb23d"
      },
      "source": [
        "### Convert Column to Object (String)\n",
        "- If a column needs to be converted to a string or object type, use the astype() method. This is useful when numeric or datetime values need to be treated as categorical or text data"
      ]
    },
    {
      "cell_type": "code",
      "execution_count": null,
      "id": "eedd85d5-e0d1-4916-b03a-61e09bcf0c3c",
      "metadata": {
        "id": "eedd85d5-e0d1-4916-b03a-61e09bcf0c3c",
        "outputId": "939b1579-a6b8-43fd-f46e-d5e6e34a16c2"
      },
      "outputs": [
        {
          "data": {
            "text/plain": [
              "dtype('O')"
            ]
          },
          "execution_count": 215,
          "metadata": {},
          "output_type": "execute_result"
        }
      ],
      "source": [
        "# Convert 'gender' to object (string)\n",
        "df['gender'] = df['gender'].astype('object')\n",
        "df['gender'].dtype"
      ]
    },
    {
      "cell_type": "markdown",
      "id": "f247616c-de4e-474c-a194-0d3b35753c98",
      "metadata": {
        "id": "f247616c-de4e-474c-a194-0d3b35753c98"
      },
      "source": [
        "### Convert Column to Boolean\n",
        "- To convert a column with binary categorical data (e.g., \"Yes\" or \"No\") to a boolean type, you can use map() or replace()"
      ]
    },
    {
      "cell_type": "code",
      "execution_count": null,
      "id": "93fcbaa4-a1eb-4a45-bde7-b70f42ad8907",
      "metadata": {
        "id": "93fcbaa4-a1eb-4a45-bde7-b70f42ad8907",
        "outputId": "e6778e8f-1116-4a5c-df9d-43f4824a65cd"
      },
      "outputs": [
        {
          "data": {
            "text/plain": [
              "dtype('bool')"
            ]
          },
          "execution_count": 216,
          "metadata": {},
          "output_type": "execute_result"
        }
      ],
      "source": [
        "# Convert 'part_time_job' to boolean (Yes -> True, No -> False)\n",
        "df['part_time_job_bool'] = df['part_time_job'].map({'Yes': True, 'No': False})\n",
        "df['part_time_job_bool'].dtype"
      ]
    },
    {
      "cell_type": "markdown",
      "id": "378fc82b-adac-4a3f-b3cc-889c9ffccbd7",
      "metadata": {
        "id": "378fc82b-adac-4a3f-b3cc-889c9ffccbd7"
      },
      "source": [
        "### Convert Currency-Like Strings to Numeric"
      ]
    },
    {
      "cell_type": "code",
      "execution_count": null,
      "id": "eda3a7d0-ad61-4cc5-9447-f05ce23ae593",
      "metadata": {
        "id": "eda3a7d0-ad61-4cc5-9447-f05ce23ae593",
        "outputId": "f426e989-3001-468c-c03e-dcb9d8bb1c55"
      },
      "outputs": [
        {
          "data": {
            "text/plain": [
              "dtype('float64')"
            ]
          },
          "execution_count": 219,
          "metadata": {},
          "output_type": "execute_result"
        }
      ],
      "source": [
        "# Remove dollar sign ($) and commas, then convert to numeric\n",
        "df['exam_score'] = df['exam_score'].replace({'\\$': '', ',': ''}, regex=True).astype(float)\n",
        "df['exam_score'].dtype"
      ]
    },
    {
      "cell_type": "code",
      "execution_count": null,
      "id": "5f3e8860-2556-422b-83ec-ffb4cd604f55",
      "metadata": {
        "id": "5f3e8860-2556-422b-83ec-ffb4cd604f55"
      },
      "outputs": [],
      "source": []
    }
  ],
  "metadata": {
    "colab": {
      "provenance": []
    },
    "kernelspec": {
      "display_name": "myenv",
      "language": "python",
      "name": "python3"
    },
    "language_info": {
      "codemirror_mode": {
        "name": "ipython",
        "version": 3
      },
      "file_extension": ".py",
      "mimetype": "text/x-python",
      "name": "python",
      "nbconvert_exporter": "python",
      "pygments_lexer": "ipython3",
      "version": "3.13.3"
    }
  },
  "nbformat": 4,
  "nbformat_minor": 5
}
