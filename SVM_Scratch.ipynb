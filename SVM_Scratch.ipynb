{
 "cells": [
  {
   "cell_type": "code",
   "execution_count": 1,
   "id": "14039417",
   "metadata": {},
   "outputs": [],
   "source": [
    "import numpy as np\n",
    "import matplotlib.pyplot as plt\n",
    "import pandas as pd\n",
    "import seaborn as sns\n",
    "\n",
    "from sklearn.preprocessing import StandardScaler\n",
    "from sklearn.metrics import classification_report, confusion_matrix,accuracy_score\n",
    "np.random.seed(42) \n"
   ]
  },
  {
   "cell_type": "code",
   "execution_count": 2,
   "id": "d3592a37",
   "metadata": {},
   "outputs": [],
   "source": [
    "df_train=pd.read_csv('datasets/clean/processedtrain.csv')\n",
    "df_test=pd.read_csv('datasets/clean/processedtest.csv')\n",
    "data=df_train.copy()"
   ]
  },
  {
   "cell_type": "code",
   "execution_count": 3,
   "id": "bea7bc8c",
   "metadata": {},
   "outputs": [],
   "source": [
    "\n",
    "#label encoding \n",
    "from sklearn.preprocessing import LabelEncoder\n",
    "encoder=LabelEncoder()\n",
    "\n",
    "df_train['NObeyesdad']=encoder.fit_transform(df_train['NObeyesdad'])\n",
    "df_train['NObeyesdad'].value_counts()\n",
    "\n",
    "df_test['NObeyesdad']=encoder.fit_transform(df_test['NObeyesdad'])\n",
    "df_test.head(11)\n",
    "log_col =  ['Weight','Height','FAVC','FAF','TUE']\n",
    "X_train=df_train[log_col]\n",
    "y_train=df_train.NObeyesdad\n",
    "\n",
    "\n",
    "X_test=df_test[log_col]\n",
    "y_test=df_test.NObeyesdad\n",
    "\n",
    "\n",
    "scaler = StandardScaler()\n",
    "x_train_scaled = scaler.fit_transform(X_train)\n",
    "x_test_scaled = scaler.fit_transform(X_test)"
   ]
  },
  {
   "cell_type": "code",
   "execution_count": 4,
   "id": "7c687175",
   "metadata": {},
   "outputs": [],
   "source": [
    "def plot_decision_boundary(svm, X, y):\n",
    "    x_min, x_max = X[:, 0].min() - 1, X[:, 0].max() + 1\n",
    "    y_min, y_max = X[:, 1].min() - 1, X[:, 1].max() + 1\n",
    "    xx, yy = np.meshgrid(np.arange(x_min, x_max, 0.1),\n",
    "                         np.arange(y_min, y_max, 0.1))\n",
    "    Z = svm.predict(np.c_[xx.ravel(), yy.ravel()])\n",
    "    Z = Z.reshape(xx.shape)\n",
    "    \n",
    "    plt.contourf(xx, yy, Z, alpha=0.4)\n",
    "    plt.scatter(X[:, 0], X[:, 1], c=y, alpha=0.8)\n",
    "    plt.scatter(svm.support_vectors[:, 0], svm.support_vectors[:, 1], \n",
    "                s=80, facecolors='none', edgecolors='k')\n",
    "    plt.title('SVM Decision Boundary')\n",
    "    plt.show()\n",
    "\n",
    "def linear_kernel(x1, x2):\n",
    "    return np.dot(x1, x2)\n",
    "\n",
    "def rbf_kernel(x1, x2, gamma=0.1):\n",
    "    x1 = np.asarray(x1)\n",
    "    x2 = np.asarray(x2)\n",
    "    # Ensure proper broadcasting\n",
    "    return np.exp(-gamma * np.sum((x1[:, np.newaxis] - x2)**2, axis=-1))\n",
    "\n",
    "\n"
   ]
  },
  {
   "cell_type": "code",
   "execution_count": null,
   "id": "f1ed4bcf",
   "metadata": {},
   "outputs": [],
   "source": []
  },
  {
   "cell_type": "markdown",
   "id": "16d19683",
   "metadata": {},
   "source": [
    "E[i] = f(x[i]) - y[i] (prediction error).\n",
    "\n",
    "y[i] * E[i] = y[i] f(x[i]) - 1 (margin violation check).\n",
    "\n",
    "What tol Controls:\n",
    "y[i] * E[i] < -tol:\n",
    "The point is misclassified or inside the margin (needs adjustment if αᵢ < C).\n",
    "\n",
    "y[i] * E[i] > tol:\n",
    "The point is correctly classified but too far from the margin (needs adjustment if αᵢ > 0).\n",
    "\n",
    "-tol ≤ y[i] * E[i] ≤ tol:\n",
    "The point satisfies the KKT conditions (no update needed).\n",
    "\n"
   ]
  },
  {
   "cell_type": "code",
   "execution_count": 5,
   "id": "1fac97ef",
   "metadata": {},
   "outputs": [],
   "source": [
    "def svm_optimization(X, y, kernel, C, tol=1e-3, max_passes=20):\n",
    "    m, n = X.shape\n",
    "    alphas = np.zeros(m)  \n",
    "    # Initialize all Lagrange multipliers to 0 \n",
    "    # point 0<a<c are support vectors\n",
    "    b = 0\n",
    "    \n",
    "    for _ in range(max_passes):\n",
    "        num_changed_alphas = 0 #updates for each pass\n",
    "        for i in range(m):\n",
    "            # Compute Ei\n",
    "            Ki = kernel(X[i].reshape(1,-1), X) #claculates similarity between i-point and all points \n",
    "            Ei = np.sum(alphas * y * Ki.ravel()) + b - y[i]#how wrong current prediction is for point i\n",
    "\n",
    "            #check KKT condition\n",
    "            \n",
    "            if (y[i]*Ei < -tol and alphas[i] < C) or (y[i]*Ei > tol and alphas[i] > 0):\n",
    "                # Select second alpha randomly\n",
    "                j = np.random.choice([k for k in range(m) if k != i])\n",
    "                \n",
    "                # Compute Ej\n",
    "                Kj = kernel(X[j].reshape(1,-1), X)\n",
    "                Ej = np.sum(alphas * y * Kj.ravel()) + b - y[j]\n",
    "                \n",
    "                # Save old alphas\n",
    "                alpha_i_old, alpha_j_old = alphas[i], alphas[j]\n",
    "                \n",
    "                # Compute L and H bounds \n",
    "                if y[i] != y[j]:\n",
    "                    L = max(0, alphas[j] - alphas[i])\n",
    "                    H = min(C, C + alphas[j] - alphas[i])\n",
    "                else:\n",
    "                    L = max(0, alphas[i] + alphas[j] - C)\n",
    "                    H = min(C, alphas[i] + alphas[j])\n",
    "                \n",
    "                if L == H:\n",
    "                    continue\n",
    "                \n",
    "                # Compute eta\n",
    "                eta = 2 * kernel(X[i].reshape(1,-1), X[j].reshape(1,-1)) - \\\n",
    "                      kernel(X[i].reshape(1,-1), X[i].reshape(1,-1)) - \\\n",
    "                      kernel(X[j].reshape(1,-1), X[j].reshape(1,-1))\n",
    "                \n",
    "                \"\"\"\n",
    "                The distance is zero (meaning ϕ(xi)=ϕ(xj)ϕ(x i​)=ϕ(x j​), i.e., the kernel is degenerate)\n",
    "                The objective function is flat or convex in this subspace\n",
    "                \"\"\"\n",
    "                if eta >= 0:\n",
    "                    continue\n",
    "                \n",
    "                #The kernel matrix is locally positive definite, meaning the objective W(α) is strictly concave i\n",
    "                # Update alpha_j\n",
    "                alphas[j] -= y[j] * (Ei - Ej) / eta\n",
    "                alphas[j] = np.clip(alphas[j], L, H)\n",
    "                \n",
    "                if abs(alphas[j] - alpha_j_old) < tol:\n",
    "                    continue\n",
    "                \n",
    "                # Update alpha_i\n",
    "                alphas[i] += y[i] * y[j] * (alpha_j_old - alphas[j])\n",
    "                \n",
    "                # Update b\n",
    "                b1 = b - Ei - y[i]*(alphas[i]-alpha_i_old)*kernel(X[i].reshape(1,-1), X[i].reshape(1,-1)) \\\n",
    "                     - y[j]*(alphas[j]-alpha_j_old)*kernel(X[i].reshape(1,-1), X[j].reshape(1,-1))\n",
    "                \n",
    "                b2 = b - Ej - y[i]*(alphas[i]-alpha_i_old)*kernel(X[i].reshape(1,-1), X[j].reshape(1,-1)) \\\n",
    "                     - y[j]*(alphas[j]-alpha_j_old)*kernel(X[j].reshape(1,-1), X[j].reshape(1,-1))\n",
    "                \n",
    "                if 0 < alphas[i] < C: #ai is SV\n",
    "                    b = b1\n",
    "                elif 0 < alphas[j] < C: #aj is SV\n",
    "                    b = b2\n",
    "                else:\n",
    "                    b = (b1 + b2)/2\n",
    "                \n",
    "                num_changed_alphas += 1\n",
    "        \n",
    "        if num_changed_alphas == 0:\n",
    "            break\n",
    "    \n",
    "    return alphas, b"
   ]
  },
  {
   "cell_type": "code",
   "execution_count": 6,
   "id": "5884ac0b",
   "metadata": {},
   "outputs": [],
   "source": [
    "class SVM:\n",
    "    def __init__(self, kernel=linear_kernel, C=1.0):\n",
    "        self.kernel = kernel\n",
    "        self.C = C\n",
    "        self.alphas = None\n",
    "        self.b = None\n",
    "        self.support_vectors = None\n",
    "        self.support_vector_labels = None\n",
    "    \n",
    "    def fit(self, X, y):\n",
    "        self.X = X\n",
    "        self.y = y\n",
    "        self.alphas, self.b = svm_optimization(X, y, self.kernel, self.C)\n",
    "        \n",
    "        support_vector_indices = np.where(self.alphas > 1e-3)[0] #SELECT SUPPORT VECTORS\n",
    "        self.support_vectors = X[support_vector_indices]\n",
    "        self.support_vector_labels = y[support_vector_indices]\n",
    "        self.alphas = self.alphas[support_vector_indices]\n",
    "    \n",
    "    def predict(self, X):\n",
    "        X = np.asarray(X)\n",
    "        # Calculate kernel between support vectors and new data\n",
    "        K = self.kernel(self.support_vectors, X)  # shape: (n_support, n_samples)\n",
    "        \n",
    "        # Calculate decision values\n",
    "        y_pred = np.dot((self.alphas * self.support_vector_labels).T, K) + self.b\n",
    "        return np.sign(y_pred).astype(int)\n"
   ]
  },
  {
   "cell_type": "code",
   "execution_count": 7,
   "id": "c4367a31",
   "metadata": {},
   "outputs": [],
   "source": [
    "class MultiClassSVM:\n",
    "    def __init__(self, kernel=linear_kernel, C=1.0):\n",
    "        self.kernel = kernel\n",
    "        self.C = C\n",
    "        self.binary_classifiers = {}\n",
    "\n",
    "    def fit(self, X, y):\n",
    "        X = np.asarray(X)\n",
    "        y = np.asarray(y)       \n",
    "        self.classes = np.unique(y)\n",
    "        for class_label in self.classes:\n",
    "            binary_y = np.where(y == class_label, 1, -1)\n",
    "            svm = SVM(kernel=self.kernel, C=self.C)\n",
    "            svm.fit(X, binary_y)\n",
    "            self.binary_classifiers[class_label] = svm\n",
    "\n",
    "    def predict(self, X):\n",
    "        X = np.asarray(X)\n",
    "        decision_values = np.zeros((X.shape[0], len(self.classes)))\n",
    "        \n",
    "        for i, class_label in enumerate(self.classes):\n",
    "            svm = self.binary_classifiers[class_label]\n",
    "            # Get decision values for each classifier\n",
    "            decision_values[:, i] = svm.predict(X)\n",
    "            \n",
    "        return self.classes[np.argmax(decision_values, axis=1)]\n",
    "\n",
    "\n"
   ]
  },
  {
   "cell_type": "code",
   "execution_count": 8,
   "id": "c4e9e3cc",
   "metadata": {},
   "outputs": [
    {
     "name": "stderr",
     "output_type": "stream",
     "text": [
      "C:\\Users\\Administrator\\AppData\\Local\\Temp\\ipykernel_25548\\2958351301.py:53: DeprecationWarning: Conversion of an array with ndim > 0 to a scalar is deprecated, and will error in future. Ensure you extract a single element from your array before performing this operation. (Deprecated NumPy 1.25.)\n",
      "  alphas[j] -= y[j] * (Ei - Ej) / eta\n"
     ]
    },
    {
     "name": "stdout",
     "output_type": "stream",
     "text": [
      "Multi-class SVM accuracy: 0.957\n",
      "Multi-class SVM accuracy: 0.886\n"
     ]
    }
   ],
   "source": [
    "multi_svm = MultiClassSVM(kernel=lambda x1, x2: rbf_kernel(x1, x2, gamma= 1), C=15.0)\n",
    "multi_svm.fit(x_train_scaled, y_train.values)  # Explicit conversion to numpy\n",
    "y_pred = multi_svm.predict(x_test_scaled)\n",
    "y_pred_train = multi_svm.predict(x_train_scaled)\n",
    "test_acc = accuracy_score(y_test, y_pred)\n",
    "\n",
    "accuracy = accuracy_score(y_train,y_pred_train )\n",
    "\n",
    "print(f\"Multi-class SVM accuracy: {accuracy:.3f}\")\n",
    "print(f\"Multi-class SVM accuracy: {test_acc:.3f}\")"
   ]
  },
  {
   "cell_type": "code",
   "execution_count": 9,
   "id": "cb14f28f",
   "metadata": {},
   "outputs": [
    {
     "name": "stdout",
     "output_type": "stream",
     "text": [
      "\n",
      "Classification Report:\n",
      "               precision    recall  f1-score   support\n",
      "\n",
      "           0       0.63      1.00      0.77        24\n",
      "           1       1.00      0.72      0.84        32\n",
      "           2       0.88      1.00      0.94        29\n",
      "           3       0.95      0.95      0.95        38\n",
      "           4       1.00      0.93      0.96        28\n",
      "           5       0.86      0.92      0.89        26\n",
      "           6       1.00      0.74      0.85        34\n",
      "\n",
      "    accuracy                           0.89       211\n",
      "   macro avg       0.90      0.89      0.88       211\n",
      "weighted avg       0.91      0.89      0.89       211\n",
      "\n"
     ]
    }
   ],
   "source": [
    "print(\"\\nClassification Report:\\n\", classification_report(y_test, y_pred))"
   ]
  },
  {
   "cell_type": "code",
   "execution_count": 10,
   "id": "fad983b3",
   "metadata": {},
   "outputs": [
    {
     "data": {
      "image/png": "[encoded data removed]",
      "text/plain": [
       "<Figure size 1000x700 with 2 Axes>"
      ]
     },
     "metadata": {},
     "output_type": "display_data"
    }
   ],
   "source": [
    "plt.figure(figsize=(10,7))\n",
    "sns.heatmap(confusion_matrix(y_test, y_pred), \n",
    "            annot=True, fmt='d', cmap='Blues')\n",
    "plt.title('Confusion Matrix')\n",
    "plt.show()"
   ]
  }
 ],
 "metadata": {
  "kernelspec": {
   "display_name": "MYENV",
   "language": "python",
   "name": "python3"
  },
  "language_info": {
   "codemirror_mode": {
    "name": "ipython",
    "version": 3
   },
   "file_extension": ".py",
   "mimetype": "text/x-python",
   "name": "python",
   "nbconvert_exporter": "python",
   "pygments_lexer": "ipython3",
   "version": "3.13.3"
  }
 },
 "nbformat": 4,
 "nbformat_minor": 5
}
