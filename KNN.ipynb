{
 "cells": [
  {
   "cell_type": "markdown",
   "id": "3f9f2044",
   "metadata": {},
   "source": [
    "## import Libraries"
   ]
  },
  {
   "cell_type": "code",
   "execution_count": 375,
   "id": "27bd1280",
   "metadata": {},
   "outputs": [],
   "source": [
    "import pandas as pd\n",
    "import matplotlib.pyplot as plt\n",
    "from sklearn.preprocessing import StandardScaler\n",
    "from sklearn.neighbors import KNeighborsClassifier\n",
    "from sklearn.metrics import accuracy_score\n",
    "from sklearn.metrics import confusion_matrix,classification_report\n"
   ]
  },
  {
   "cell_type": "markdown",
   "id": "280460f5",
   "metadata": {},
   "source": [
    "## load data"
   ]
  },
  {
   "cell_type": "code",
   "execution_count": 376,
   "id": "72cde202",
   "metadata": {},
   "outputs": [
    {
     "data": {
      "text/html": [
       "<div>\n",
       "<style scoped>\n",
       "    .dataframe tbody tr th:only-of-type {\n",
       "        vertical-align: middle;\n",
       "    }\n",
       "\n",
       "    .dataframe tbody tr th {\n",
       "        vertical-align: top;\n",
       "    }\n",
       "\n",
       "    .dataframe thead th {\n",
       "        text-align: right;\n",
       "    }\n",
       "</style>\n",
       "<table border=\"1\" class=\"dataframe\">\n",
       "  <thead>\n",
       "    <tr style=\"text-align: right;\">\n",
       "      <th></th>\n",
       "      <th>Gender</th>\n",
       "      <th>Age</th>\n",
       "      <th>Height</th>\n",
       "      <th>Weight</th>\n",
       "      <th>family_history_with_overweight</th>\n",
       "      <th>FAVC</th>\n",
       "      <th>FCVC</th>\n",
       "      <th>NCP</th>\n",
       "      <th>CAEC</th>\n",
       "      <th>SMOKE</th>\n",
       "      <th>CH2O</th>\n",
       "      <th>SCC</th>\n",
       "      <th>FAF</th>\n",
       "      <th>TUE</th>\n",
       "      <th>CALC</th>\n",
       "      <th>MTRANS</th>\n",
       "      <th>NObeyesdad</th>\n",
       "    </tr>\n",
       "  </thead>\n",
       "  <tbody>\n",
       "    <tr>\n",
       "      <th>0</th>\n",
       "      <td>1</td>\n",
       "      <td>0.085106</td>\n",
       "      <td>1.82</td>\n",
       "      <td>0.769403</td>\n",
       "      <td>1</td>\n",
       "      <td>1</td>\n",
       "      <td>3.00</td>\n",
       "      <td>3.0</td>\n",
       "      <td>1</td>\n",
       "      <td>0</td>\n",
       "      <td>2.71</td>\n",
       "      <td>0</td>\n",
       "      <td>2.00</td>\n",
       "      <td>0.814</td>\n",
       "      <td>1</td>\n",
       "      <td>0.753684</td>\n",
       "      <td>Obesity_Type_III</td>\n",
       "    </tr>\n",
       "    <tr>\n",
       "      <th>1</th>\n",
       "      <td>0</td>\n",
       "      <td>0.382979</td>\n",
       "      <td>1.84</td>\n",
       "      <td>0.442239</td>\n",
       "      <td>1</td>\n",
       "      <td>1</td>\n",
       "      <td>2.33</td>\n",
       "      <td>2.0</td>\n",
       "      <td>1</td>\n",
       "      <td>0</td>\n",
       "      <td>2.56</td>\n",
       "      <td>0</td>\n",
       "      <td>1.33</td>\n",
       "      <td>0.481</td>\n",
       "      <td>1</td>\n",
       "      <td>0.212105</td>\n",
       "      <td>Overweight_Level_II</td>\n",
       "    </tr>\n",
       "    <tr>\n",
       "      <th>2</th>\n",
       "      <td>0</td>\n",
       "      <td>0.212766</td>\n",
       "      <td>1.76</td>\n",
       "      <td>0.584552</td>\n",
       "      <td>1</td>\n",
       "      <td>1</td>\n",
       "      <td>1.54</td>\n",
       "      <td>3.0</td>\n",
       "      <td>1</td>\n",
       "      <td>0</td>\n",
       "      <td>2.00</td>\n",
       "      <td>0</td>\n",
       "      <td>1.63</td>\n",
       "      <td>0.631</td>\n",
       "      <td>1</td>\n",
       "      <td>0.753684</td>\n",
       "      <td>Obesity_Type_II</td>\n",
       "    </tr>\n",
       "    <tr>\n",
       "      <th>3</th>\n",
       "      <td>1</td>\n",
       "      <td>0.255319</td>\n",
       "      <td>1.62</td>\n",
       "      <td>0.534925</td>\n",
       "      <td>1</td>\n",
       "      <td>1</td>\n",
       "      <td>3.00</td>\n",
       "      <td>3.0</td>\n",
       "      <td>1</td>\n",
       "      <td>0</td>\n",
       "      <td>2.69</td>\n",
       "      <td>0</td>\n",
       "      <td>0.00</td>\n",
       "      <td>0.425</td>\n",
       "      <td>1</td>\n",
       "      <td>0.753684</td>\n",
       "      <td>Obesity_Type_III</td>\n",
       "    </tr>\n",
       "    <tr>\n",
       "      <th>4</th>\n",
       "      <td>0</td>\n",
       "      <td>0.382979</td>\n",
       "      <td>1.78</td>\n",
       "      <td>0.613433</td>\n",
       "      <td>1</td>\n",
       "      <td>1</td>\n",
       "      <td>2.76</td>\n",
       "      <td>3.0</td>\n",
       "      <td>1</td>\n",
       "      <td>0</td>\n",
       "      <td>2.16</td>\n",
       "      <td>0</td>\n",
       "      <td>0.43</td>\n",
       "      <td>0.716</td>\n",
       "      <td>1</td>\n",
       "      <td>0.212105</td>\n",
       "      <td>Obesity_Type_II</td>\n",
       "    </tr>\n",
       "  </tbody>\n",
       "</table>\n",
       "</div>"
      ],
      "text/plain": [
       "   Gender       Age  Height    Weight  family_history_with_overweight  FAVC  \\\n",
       "0       1  0.085106    1.82  0.769403                               1     1   \n",
       "1       0  0.382979    1.84  0.442239                               1     1   \n",
       "2       0  0.212766    1.76  0.584552                               1     1   \n",
       "3       1  0.255319    1.62  0.534925                               1     1   \n",
       "4       0  0.382979    1.78  0.613433                               1     1   \n",
       "\n",
       "   FCVC  NCP  CAEC  SMOKE  CH2O  SCC   FAF    TUE  CALC    MTRANS  \\\n",
       "0  3.00  3.0     1      0  2.71    0  2.00  0.814     1  0.753684   \n",
       "1  2.33  2.0     1      0  2.56    0  1.33  0.481     1  0.212105   \n",
       "2  1.54  3.0     1      0  2.00    0  1.63  0.631     1  0.753684   \n",
       "3  3.00  3.0     1      0  2.69    0  0.00  0.425     1  0.753684   \n",
       "4  2.76  3.0     1      0  2.16    0  0.43  0.716     1  0.212105   \n",
       "\n",
       "            NObeyesdad  \n",
       "0     Obesity_Type_III  \n",
       "1  Overweight_Level_II  \n",
       "2      Obesity_Type_II  \n",
       "3     Obesity_Type_III  \n",
       "4      Obesity_Type_II  "
      ]
     },
     "execution_count": 376,
     "metadata": {},
     "output_type": "execute_result"
    }
   ],
   "source": [
    "df_train=pd.read_csv('datasets/clean/processedtrain.csv')\n",
    "df_test=pd.read_csv('datasets/clean/processedtest.csv')\n",
    "data=df_train.copy()\n",
    "df_train.head()"
   ]
  },
  {
   "cell_type": "markdown",
   "id": "19846787",
   "metadata": {},
   "source": [
    "## preprocessing"
   ]
  },
  {
   "cell_type": "code",
   "execution_count": 377,
   "id": "e8ebdbf5",
   "metadata": {},
   "outputs": [],
   "source": [
    "features =  ['Age','Weight','Height','FAVC','FAF','TUE','MTRANS','family_history_with_overweight']\n",
    "x_train = df_train[features]\n",
    "y_train = df_train.NObeyesdad\n",
    "\n",
    "\n",
    "x_test = df_test[features]\n",
    "y_test = df_test.NObeyesdad\n",
    "\n",
    "scaler = StandardScaler()\n",
    "x_train_scaled = scaler.fit_transform(x_train)\n",
    "x_test_scaled = scaler.transform(x_test)"
   ]
  },
  {
   "cell_type": "markdown",
   "id": "20781e56",
   "metadata": {},
   "source": [
    "## Create a Model and Train it"
   ]
  },
  {
   "cell_type": "code",
   "execution_count": 378,
   "id": "8264b0de",
   "metadata": {},
   "outputs": [
    {
     "name": "stdout",
     "output_type": "stream",
     "text": [
      "Traning Accuracy with 5 neighbors : 88.26315789473685\n",
      "Testing Accuracy with 5 neighbors : 86.25592417061611\n"
     ]
    }
   ],
   "source": [
    "\n",
    "knn_model = KNeighborsClassifier(n_neighbors=5) \n",
    "knn_model.fit(x_train_scaled, y_train)\n",
    "#calculate the traning accuracy\n",
    "traning_accuracy = knn_model.score(x_train_scaled, y_train)\n",
    "print(\"Traning Accuracy with 5 neighbors :\", traning_accuracy*100)\n",
    "#calculate the test accuracy\n",
    "testing_accuracy = knn_model.score(x_test_scaled, y_test)\n",
    "print(\"Testing Accuracy with 5 neighbors :\", testing_accuracy*100)\n",
    "\n"
   ]
  },
  {
   "cell_type": "markdown",
   "id": "bdcd0fac",
   "metadata": {},
   "source": [
    "# Evaluate The Model"
   ]
  },
  {
   "cell_type": "code",
   "execution_count": 379,
   "id": "e6c5d6c7",
   "metadata": {},
   "outputs": [
    {
     "name": "stdout",
     "output_type": "stream",
     "text": [
      "Testing Score = 86.25592417061611\n"
     ]
    }
   ],
   "source": [
    "y_preds = knn_model.predict(x_test_scaled)\n",
    "print (\"Testing Score =\", accuracy_score(y_test,y_preds)*100)\n"
   ]
  },
  {
   "cell_type": "markdown",
   "id": "80834363",
   "metadata": {},
   "source": [
    "# Report data"
   ]
  },
  {
   "cell_type": "code",
   "execution_count": 380,
   "id": "8e59052e",
   "metadata": {},
   "outputs": [
    {
     "name": "stdout",
     "output_type": "stream",
     "text": [
      "classification_report:                      precision    recall  f1-score   support\n",
      "\n",
      "Insufficient_Weight       0.92      0.96      0.94        24\n",
      "      Normal_Weight       0.90      0.84      0.87        32\n",
      "     Obesity_Type_I       0.70      0.97      0.81        29\n",
      "    Obesity_Type_II       1.00      0.92      0.96        38\n",
      "   Obesity_Type_III       0.97      1.00      0.98        28\n",
      " Overweight_Level_I       0.74      0.65      0.69        26\n",
      "Overweight_Level_II       0.83      0.71      0.76        34\n",
      "\n",
      "           accuracy                           0.86       211\n",
      "          macro avg       0.86      0.86      0.86       211\n",
      "       weighted avg       0.87      0.86      0.86       211\n",
      "\n"
     ]
    }
   ],
   "source": [
    "report=classification_report(y_test,y_preds)\n",
    "print(\"classification_report:\",report)"
   ]
  }
 ],
 "metadata": {
  "kernelspec": {
   "display_name": "Python 3",
   "language": "python",
   "name": "python3"
  },
  "language_info": {
   "codemirror_mode": {
    "name": "ipython",
    "version": 3
   },
   "file_extension": ".py",
   "mimetype": "text/x-python",
   "name": "python",
   "nbconvert_exporter": "python",
   "pygments_lexer": "ipython3",
   "version": "3.13.1"
  }
 },
 "nbformat": 4,
 "nbformat_minor": 5
}
