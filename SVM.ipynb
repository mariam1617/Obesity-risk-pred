{
 "cells": [
  {
   "cell_type": "markdown",
   "id": "da2ac4f2",
   "metadata": {},
   "source": [
    "## imports"
   ]
  },
  {
   "cell_type": "markdown",
   "id": "b9af8cff",
   "metadata": {},
   "source": [
    "## load  "
   ]
  },
  {
   "cell_type": "markdown",
   "id": "0bb92aca",
   "metadata": {},
   "source": [
    "## prep"
   ]
  },
  {
   "cell_type": "markdown",
   "id": "a0d83989",
   "metadata": {},
   "source": [
    "## build model"
   ]
  },
  {
   "cell_type": "markdown",
   "id": "50527eaf",
   "metadata": {},
   "source": [
    "## accuracy test"
   ]
  }
 ],
 "metadata": {
  "language_info": {
   "name": "python"
  }
 },
 "nbformat": 4,
 "nbformat_minor": 5
}
